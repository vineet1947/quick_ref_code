{
  "nbformat": 4,
  "nbformat_minor": 0,
  "metadata": {
    "colab": {
      "name": "file_handling.ipynb",
      "provenance": []
    },
    "kernelspec": {
      "name": "python3",
      "display_name": "Python 3"
    },
    "language_info": {
      "name": "python"
    }
  },
  "cells": [
    {
      "cell_type": "code",
      "execution_count": 29,
      "metadata": {
        "id": "ypuqpVho74zK"
      },
      "outputs": [],
      "source": [
        "import sys \n",
        "import os \n"
      ]
    },
    {
      "cell_type": "code",
      "source": [
        "file  = open('file.txt',  'w') \n",
        "file.write(\"hello this is line 1 \") \n",
        "file.write(\"this is line 2\")  \n",
        "file.close()\n",
        "\n",
        "\n",
        "file = open('file.txt' , 'r')  \n",
        "print(file.readline()) \n",
        "file.close()\n"
      ],
      "metadata": {
        "colab": {
          "base_uri": "https://localhost:8080/"
        },
        "id": "B22Ov1Q88VwI",
        "outputId": "39c1ed2e-07d2-48bd-c9be-6078156886bf"
      },
      "execution_count": 30,
      "outputs": [
        {
          "output_type": "stream",
          "name": "stdout",
          "text": [
            "hello this is line 1 this is line 2\n"
          ]
        }
      ]
    },
    {
      "cell_type": "code",
      "source": [
        "with open(\"file.txt\") as file: \n",
        "    data = file.read()"
      ],
      "metadata": {
        "id": "JwQVEUaS78L4"
      },
      "execution_count": 31,
      "outputs": []
    },
    {
      "cell_type": "code",
      "source": [
        "for line in data  :\n",
        "   word = line.split() \n",
        "   print(word)"
      ],
      "metadata": {
        "id": "rHcfovA378Vg"
      },
      "execution_count": null,
      "outputs": []
    },
    {
      "cell_type": "code",
      "source": [
        "!pip install num2words"
      ],
      "metadata": {
        "colab": {
          "base_uri": "https://localhost:8080/"
        },
        "id": "wImRJG3z-ALb",
        "outputId": "6fb14226-a93b-435e-8b7c-083113b4d74a"
      },
      "execution_count": 33,
      "outputs": [
        {
          "output_type": "stream",
          "name": "stdout",
          "text": [
            "Looking in indexes: https://pypi.org/simple, https://us-python.pkg.dev/colab-wheels/public/simple/\n",
            "Requirement already satisfied: num2words in /usr/local/lib/python3.7/dist-packages (0.5.10)\n",
            "Requirement already satisfied: docopt>=0.6.2 in /usr/local/lib/python3.7/dist-packages (from num2words) (0.6.2)\n"
          ]
        }
      ]
    },
    {
      "cell_type": "code",
      "source": [
        "from num2words import num2words \n",
        "num2words(100)"
      ],
      "metadata": {
        "colab": {
          "base_uri": "https://localhost:8080/",
          "height": 35
        },
        "id": "QRiLn1_v-Ssy",
        "outputId": "536f381d-7e17-4289-fc8d-c01ce6bd0e15"
      },
      "execution_count": 34,
      "outputs": [
        {
          "output_type": "execute_result",
          "data": {
            "text/plain": [
              "'one hundred'"
            ],
            "application/vnd.google.colaboratory.intrinsic+json": {
              "type": "string"
            }
          },
          "metadata": {},
          "execution_count": 34
        }
      ]
    },
    {
      "cell_type": "code",
      "source": [
        "file = open('file.txt' , 'a') \n",
        "for  i in range(3,  11)  :\n",
        "  file.write(\"this is the \"  + str(num2words(i)) + \" line \") \n",
        "file.close()"
      ],
      "metadata": {
        "id": "Cop047tl78ZL"
      },
      "execution_count": 35,
      "outputs": []
    },
    {
      "cell_type": "code",
      "source": [
        "file = open(\"file.txt\" , 'r') \n",
        "file.readlines()\n",
        "file.close()"
      ],
      "metadata": {
        "id": "07a4hka278dI"
      },
      "execution_count": 38,
      "outputs": []
    },
    {
      "cell_type": "code",
      "source": [
        "file =  open('file.txt' , 'w')\n",
        "\n",
        "file.truncate() \n",
        "\n",
        "file.close()"
      ],
      "metadata": {
        "id": "CRTFD41878hP"
      },
      "execution_count": 44,
      "outputs": []
    },
    {
      "cell_type": "code",
      "source": [
        "file  = open('file.txt' , 'r') \n",
        "file.readlines() \n"
      ],
      "metadata": {
        "colab": {
          "base_uri": "https://localhost:8080/"
        },
        "id": "mJvvnUcd78k0",
        "outputId": "94dee121-1389-4998-e39d-1c6117b59ace"
      },
      "execution_count": 45,
      "outputs": [
        {
          "output_type": "execute_result",
          "data": {
            "text/plain": [
              "[]"
            ]
          },
          "metadata": {},
          "execution_count": 45
        }
      ]
    },
    {
      "cell_type": "code",
      "source": [
        ""
      ],
      "metadata": {
        "id": "5kAornpT78oe"
      },
      "execution_count": 37,
      "outputs": []
    },
    {
      "cell_type": "code",
      "source": [
        ""
      ],
      "metadata": {
        "id": "O9isHikf78tx"
      },
      "execution_count": 37,
      "outputs": []
    }
  ]
}