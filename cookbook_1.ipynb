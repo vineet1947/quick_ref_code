{
  "nbformat": 4,
  "nbformat_minor": 0,
  "metadata": {
    "colab": {
      "name": "cookbook_1.ipynb",
      "provenance": [],
      "collapsed_sections": [],
      "authorship_tag": "ABX9TyPcAVlXIThtV8U4JbvfXEm7",
      "include_colab_link": true
    },
    "kernelspec": {
      "name": "python3",
      "display_name": "Python 3"
    },
    "language_info": {
      "name": "python"
    }
  },
  "cells": [
    {
      "cell_type": "markdown",
      "metadata": {
        "id": "view-in-github",
        "colab_type": "text"
      },
      "source": [
        "<a href=\"https://colab.research.google.com/github/vineet1947/quick_ref_code/blob/main/cookbook_1.ipynb\" target=\"_parent\"><img src=\"https://colab.research.google.com/assets/colab-badge.svg\" alt=\"Open In Colab\"/></a>"
      ]
    },
    {
      "cell_type": "code",
      "execution_count": null,
      "metadata": {
        "id": "-f12wF1Yp940"
      },
      "outputs": [],
      "source": [
        "p  = (10 ,20 ,30 ,  50 ,60 )"
      ]
    },
    {
      "cell_type": "code",
      "source": [
        "x,  y , *z= p \n",
        "print(x,  y ,z )"
      ],
      "metadata": {
        "colab": {
          "base_uri": "https://localhost:8080/"
        },
        "id": "qbBjMYL6vfN2",
        "outputId": "10c4ead2-f687-4478-fb46-bc56901db2ba"
      },
      "execution_count": null,
      "outputs": [
        {
          "output_type": "stream",
          "name": "stdout",
          "text": [
            "10 20 [30, 50, 60]\n"
          ]
        }
      ]
    },
    {
      "cell_type": "code",
      "source": [
        "line = 'nobody:*:-2:-2:Unprivileged User:/var/empty:/usr/bin/false'\n",
        "uname, *fields, homedir, sh = line.split(':')"
      ],
      "metadata": {
        "id": "qcboL2IYvfQM"
      },
      "execution_count": null,
      "outputs": []
    },
    {
      "cell_type": "code",
      "source": [
        "line = \"Hello  ;this ; is vineet;  kuamr verma  ; 2000 \"\n",
        "a,  *v , b ,c = line.split(';')\n",
        "print(a,v ,  b , c)"
      ],
      "metadata": {
        "colab": {
          "base_uri": "https://localhost:8080/"
        },
        "id": "Sta2ZSUpvfTj",
        "outputId": "e32004c2-1782-4647-b70e-c2b8a9238362"
      },
      "execution_count": null,
      "outputs": [
        {
          "output_type": "stream",
          "name": "stdout",
          "text": [
            "Hello   ['this ', ' is vineet']   kuamr verma    2000 \n"
          ]
        }
      ]
    },
    {
      "cell_type": "code",
      "source": [
        "from collections import deque \n"
      ],
      "metadata": {
        "id": "6LKKhLz2vfVr"
      },
      "execution_count": null,
      "outputs": []
    },
    {
      "cell_type": "code",
      "source": [
        "q  = deque(maxlen = 3) \n",
        "q.extend([1,2,3,4 ,5 ]) \n",
        "q"
      ],
      "metadata": {
        "colab": {
          "base_uri": "https://localhost:8080/"
        },
        "id": "KfM3Sch5vfX6",
        "outputId": "d4548be3-6b6a-4aec-b764-9ca787e27e57"
      },
      "execution_count": null,
      "outputs": [
        {
          "output_type": "execute_result",
          "data": {
            "text/plain": [
              "deque([3, 4, 5])"
            ]
          },
          "metadata": {},
          "execution_count": 6
        }
      ]
    },
    {
      "cell_type": "code",
      "source": [
        "import numpy as np "
      ],
      "metadata": {
        "id": "rZN0Th8zBq0F"
      },
      "execution_count": null,
      "outputs": []
    },
    {
      "cell_type": "code",
      "source": [
        "import heapq #used to get the nth largest or minimum "
      ],
      "metadata": {
        "id": "7RzpRmcvvfaN"
      },
      "execution_count": null,
      "outputs": []
    },
    {
      "cell_type": "code",
      "source": [
        "num = np.random.randint(-10 , 30 , 10)\n",
        "num =  list(num)\n",
        "num"
      ],
      "metadata": {
        "colab": {
          "base_uri": "https://localhost:8080/"
        },
        "id": "hlqekSWKBVEd",
        "outputId": "e43b0dc5-19c0-4b08-b60f-9fbccf456eca"
      },
      "execution_count": null,
      "outputs": [
        {
          "output_type": "execute_result",
          "data": {
            "text/plain": [
              "[28, -3, 2, 12, -6, 15, 5, 13, 26, 15]"
            ]
          },
          "metadata": {},
          "execution_count": 9
        }
      ]
    },
    {
      "cell_type": "code",
      "source": [
        "heapq.nlargest(3, num) , heapq.nsmallest(2,num )"
      ],
      "metadata": {
        "colab": {
          "base_uri": "https://localhost:8080/"
        },
        "id": "9aUv0v0TBVCI",
        "outputId": "6ebaa13e-8103-4101-d5fc-51131f0cd767"
      },
      "execution_count": null,
      "outputs": [
        {
          "output_type": "execute_result",
          "data": {
            "text/plain": [
              "([28, 26, 15], [-6, -3])"
            ]
          },
          "metadata": {},
          "execution_count": 10
        }
      ]
    },
    {
      "cell_type": "code",
      "source": [
        "portfolio = [\n",
        "{'name': 'IBM', 'shares': 100, 'price': 91.1},\n",
        "{'name': 'AAPL', 'shares': 50, 'price': 543.22},\n",
        "{'name': 'FB', 'shares': 200, 'price': 21.09},\n",
        "{'name': 'HPQ', 'shares': 35, 'price': 31.75},\n",
        "{'name': 'YHOO', 'shares': 45, 'price': 16.35},\n",
        "{'name': 'ACME', 'shares': 75, 'price': 115.65}\n",
        "]"
      ],
      "metadata": {
        "id": "37dXysHkBU-n"
      },
      "execution_count": null,
      "outputs": []
    },
    {
      "cell_type": "code",
      "source": [
        "%time\n",
        "import pandas as pd \n",
        "port = pd.DataFrame(portfolio) \n",
        "port[port.price == port.price.min()]"
      ],
      "metadata": {
        "colab": {
          "base_uri": "https://localhost:8080/",
          "height": 116
        },
        "id": "a3JmVD9DBU8N",
        "outputId": "fbc1a622-06fe-4fb4-f870-dd0fd1d5af98"
      },
      "execution_count": null,
      "outputs": [
        {
          "output_type": "stream",
          "name": "stdout",
          "text": [
            "CPU times: user 3 µs, sys: 0 ns, total: 3 µs\n",
            "Wall time: 8.34 µs\n"
          ]
        },
        {
          "output_type": "execute_result",
          "data": {
            "text/plain": [
              "   name  shares  price\n",
              "4  YHOO      45  16.35"
            ],
            "text/html": [
              "\n",
              "  <div id=\"df-2e063377-0350-4160-a14c-7af0f9b55ef9\">\n",
              "    <div class=\"colab-df-container\">\n",
              "      <div>\n",
              "<style scoped>\n",
              "    .dataframe tbody tr th:only-of-type {\n",
              "        vertical-align: middle;\n",
              "    }\n",
              "\n",
              "    .dataframe tbody tr th {\n",
              "        vertical-align: top;\n",
              "    }\n",
              "\n",
              "    .dataframe thead th {\n",
              "        text-align: right;\n",
              "    }\n",
              "</style>\n",
              "<table border=\"1\" class=\"dataframe\">\n",
              "  <thead>\n",
              "    <tr style=\"text-align: right;\">\n",
              "      <th></th>\n",
              "      <th>name</th>\n",
              "      <th>shares</th>\n",
              "      <th>price</th>\n",
              "    </tr>\n",
              "  </thead>\n",
              "  <tbody>\n",
              "    <tr>\n",
              "      <th>4</th>\n",
              "      <td>YHOO</td>\n",
              "      <td>45</td>\n",
              "      <td>16.35</td>\n",
              "    </tr>\n",
              "  </tbody>\n",
              "</table>\n",
              "</div>\n",
              "      <button class=\"colab-df-convert\" onclick=\"convertToInteractive('df-2e063377-0350-4160-a14c-7af0f9b55ef9')\"\n",
              "              title=\"Convert this dataframe to an interactive table.\"\n",
              "              style=\"display:none;\">\n",
              "        \n",
              "  <svg xmlns=\"http://www.w3.org/2000/svg\" height=\"24px\"viewBox=\"0 0 24 24\"\n",
              "       width=\"24px\">\n",
              "    <path d=\"M0 0h24v24H0V0z\" fill=\"none\"/>\n",
              "    <path d=\"M18.56 5.44l.94 2.06.94-2.06 2.06-.94-2.06-.94-.94-2.06-.94 2.06-2.06.94zm-11 1L8.5 8.5l.94-2.06 2.06-.94-2.06-.94L8.5 2.5l-.94 2.06-2.06.94zm10 10l.94 2.06.94-2.06 2.06-.94-2.06-.94-.94-2.06-.94 2.06-2.06.94z\"/><path d=\"M17.41 7.96l-1.37-1.37c-.4-.4-.92-.59-1.43-.59-.52 0-1.04.2-1.43.59L10.3 9.45l-7.72 7.72c-.78.78-.78 2.05 0 2.83L4 21.41c.39.39.9.59 1.41.59.51 0 1.02-.2 1.41-.59l7.78-7.78 2.81-2.81c.8-.78.8-2.07 0-2.86zM5.41 20L4 18.59l7.72-7.72 1.47 1.35L5.41 20z\"/>\n",
              "  </svg>\n",
              "      </button>\n",
              "      \n",
              "  <style>\n",
              "    .colab-df-container {\n",
              "      display:flex;\n",
              "      flex-wrap:wrap;\n",
              "      gap: 12px;\n",
              "    }\n",
              "\n",
              "    .colab-df-convert {\n",
              "      background-color: #E8F0FE;\n",
              "      border: none;\n",
              "      border-radius: 50%;\n",
              "      cursor: pointer;\n",
              "      display: none;\n",
              "      fill: #1967D2;\n",
              "      height: 32px;\n",
              "      padding: 0 0 0 0;\n",
              "      width: 32px;\n",
              "    }\n",
              "\n",
              "    .colab-df-convert:hover {\n",
              "      background-color: #E2EBFA;\n",
              "      box-shadow: 0px 1px 2px rgba(60, 64, 67, 0.3), 0px 1px 3px 1px rgba(60, 64, 67, 0.15);\n",
              "      fill: #174EA6;\n",
              "    }\n",
              "\n",
              "    [theme=dark] .colab-df-convert {\n",
              "      background-color: #3B4455;\n",
              "      fill: #D2E3FC;\n",
              "    }\n",
              "\n",
              "    [theme=dark] .colab-df-convert:hover {\n",
              "      background-color: #434B5C;\n",
              "      box-shadow: 0px 1px 3px 1px rgba(0, 0, 0, 0.15);\n",
              "      filter: drop-shadow(0px 1px 2px rgba(0, 0, 0, 0.3));\n",
              "      fill: #FFFFFF;\n",
              "    }\n",
              "  </style>\n",
              "\n",
              "      <script>\n",
              "        const buttonEl =\n",
              "          document.querySelector('#df-2e063377-0350-4160-a14c-7af0f9b55ef9 button.colab-df-convert');\n",
              "        buttonEl.style.display =\n",
              "          google.colab.kernel.accessAllowed ? 'block' : 'none';\n",
              "\n",
              "        async function convertToInteractive(key) {\n",
              "          const element = document.querySelector('#df-2e063377-0350-4160-a14c-7af0f9b55ef9');\n",
              "          const dataTable =\n",
              "            await google.colab.kernel.invokeFunction('convertToInteractive',\n",
              "                                                     [key], {});\n",
              "          if (!dataTable) return;\n",
              "\n",
              "          const docLinkHtml = 'Like what you see? Visit the ' +\n",
              "            '<a target=\"_blank\" href=https://colab.research.google.com/notebooks/data_table.ipynb>data table notebook</a>'\n",
              "            + ' to learn more about interactive tables.';\n",
              "          element.innerHTML = '';\n",
              "          dataTable['output_type'] = 'display_data';\n",
              "          await google.colab.output.renderOutput(dataTable, element);\n",
              "          const docLink = document.createElement('div');\n",
              "          docLink.innerHTML = docLinkHtml;\n",
              "          element.appendChild(docLink);\n",
              "        }\n",
              "      </script>\n",
              "    </div>\n",
              "  </div>\n",
              "  "
            ]
          },
          "metadata": {},
          "execution_count": 12
        }
      ]
    },
    {
      "cell_type": "code",
      "source": [
        "%time\n",
        "cheap = heapq.nsmallest(3, portfolio, key=lambda s: s['price'])\n",
        "expensive = heapq.nlargest(3, portfolio, key=lambda s: s['price'])"
      ],
      "metadata": {
        "colab": {
          "base_uri": "https://localhost:8080/"
        },
        "id": "v4xSV_ZFC6oN",
        "outputId": "99e88706-fae3-4431-9d27-9d67df7eba19"
      },
      "execution_count": null,
      "outputs": [
        {
          "output_type": "stream",
          "name": "stdout",
          "text": [
            "CPU times: user 3 µs, sys: 1 µs, total: 4 µs\n",
            "Wall time: 7.87 µs\n"
          ]
        }
      ]
    },
    {
      "cell_type": "code",
      "source": [
        "cheap = heapq.nsmallest(3 , portfolio , key = lambda s :s['price'])\n",
        "expensive = heapq.nlargest(3 , portfolio , key = lambda s : s['price'])"
      ],
      "metadata": {
        "id": "EvC16QmOC6lc"
      },
      "execution_count": null,
      "outputs": []
    },
    {
      "cell_type": "code",
      "source": [
        "cheap  = heapq.nsmallest(3 , portfolio  ,  key  = lambda s  : s['price']) \n",
        "expensive = heapq.nlargest(3 , portfolio  ,  key  = lambda s  : s['price']) \n"
      ],
      "metadata": {
        "id": "XJ6v6KkciXF2"
      },
      "execution_count": null,
      "outputs": []
    },
    {
      "cell_type": "code",
      "source": [
        "cheap , expensive "
      ],
      "metadata": {
        "colab": {
          "base_uri": "https://localhost:8080/"
        },
        "id": "9S6Pt6sPiXDm",
        "outputId": "f215b5c7-4538-4e83-fe8d-da21b5af1cec"
      },
      "execution_count": null,
      "outputs": [
        {
          "output_type": "execute_result",
          "data": {
            "text/plain": [
              "([{'name': 'YHOO', 'price': 16.35, 'shares': 45},\n",
              "  {'name': 'FB', 'price': 21.09, 'shares': 200},\n",
              "  {'name': 'HPQ', 'price': 31.75, 'shares': 35}],\n",
              " [{'name': 'AAPL', 'price': 543.22, 'shares': 50},\n",
              "  {'name': 'ACME', 'price': 115.65, 'shares': 75},\n",
              "  {'name': 'IBM', 'price': 91.1, 'shares': 100}])"
            ]
          },
          "metadata": {},
          "execution_count": 16
        }
      ]
    },
    {
      "cell_type": "code",
      "source": [
        "nums = [1, 8, 2, 23, 7, -4, 18, 23, 42, 37, 2]"
      ],
      "metadata": {
        "id": "8qHSRm3PiW_0"
      },
      "execution_count": null,
      "outputs": []
    },
    {
      "cell_type": "code",
      "source": [
        "import heapq\n",
        "heap  = list(nums)\n",
        "heapq.heapify(heap)"
      ],
      "metadata": {
        "id": "4GC2DGIdiW9k"
      },
      "execution_count": null,
      "outputs": []
    },
    {
      "cell_type": "code",
      "source": [
        "heap"
      ],
      "metadata": {
        "colab": {
          "base_uri": "https://localhost:8080/"
        },
        "id": "9RCCpqH-iW7Y",
        "outputId": "7c0cf185-cd17-4332-f76e-22fcb8824b9f"
      },
      "execution_count": null,
      "outputs": [
        {
          "output_type": "execute_result",
          "data": {
            "text/plain": [
              "[-4, 2, 1, 23, 7, 2, 18, 23, 42, 37, 8]"
            ]
          },
          "metadata": {},
          "execution_count": 19
        }
      ]
    },
    {
      "cell_type": "code",
      "source": [
        "for i in range(3) :\n",
        "  print(heapq.heappop(heap))"
      ],
      "metadata": {
        "colab": {
          "base_uri": "https://localhost:8080/"
        },
        "id": "0Zfomb9CiW5B",
        "outputId": "d91ab724-f72c-404e-c8cc-5e49a811a305"
      },
      "execution_count": null,
      "outputs": [
        {
          "output_type": "stream",
          "name": "stdout",
          "text": [
            "-4\n",
            "1\n",
            "2\n"
          ]
        }
      ]
    },
    {
      "cell_type": "code",
      "source": [
        "import heapq\n",
        "class PriorityQueue:\n",
        "  def __init__(self):\n",
        "    self._queue = []\n",
        "    self._index = 0\n",
        "  def push(self, item, priority):\n",
        "    heapq.heappush(self._queue, (-priority, self._index, item))\n",
        "    self._index += 1\n",
        "  def pop(self):\n",
        "    return heapq.heappop(self._queue)[-1]"
      ],
      "metadata": {
        "id": "xNnZlRNPlDcN"
      },
      "execution_count": null,
      "outputs": []
    },
    {
      "cell_type": "code",
      "source": [
        "class Item:\n",
        "  def __init__(self, name):\n",
        "    self.name = name\n",
        "  def __repr__(self):\n",
        "    return 'Item({!r})'.format(self.name)"
      ],
      "metadata": {
        "id": "LMRHYOyTDrXz"
      },
      "execution_count": null,
      "outputs": []
    },
    {
      "cell_type": "code",
      "source": [
        "q = PriorityQueue()\n",
        "q.push(Item('foo'), 1)\n",
        "q.push(Item('bar'), 5)\n",
        "q.push(Item('spam'), 4)\n",
        "q.push(Item('grok'), 1)\n",
        "print(q.pop())"
      ],
      "metadata": {
        "id": "yKmLNKt3DrS5",
        "colab": {
          "base_uri": "https://localhost:8080/"
        },
        "outputId": "577b914e-1fca-42cc-cbf6-21ec6dc7f9b3"
      },
      "execution_count": null,
      "outputs": [
        {
          "output_type": "stream",
          "name": "stdout",
          "text": [
            "Item('bar')\n"
          ]
        }
      ]
    },
    {
      "cell_type": "code",
      "source": [
        "from collections import defaultdict \n"
      ],
      "metadata": {
        "id": "oyhUV9GUDrQC"
      },
      "execution_count": null,
      "outputs": []
    },
    {
      "cell_type": "code",
      "source": [
        "d = defaultdict(list)\n",
        "d['a'].append(1)\n",
        "d['a'].append(2)\n",
        "d['b'].append(3)"
      ],
      "metadata": {
        "id": "1aOch5pFDrNL"
      },
      "execution_count": null,
      "outputs": []
    },
    {
      "cell_type": "code",
      "source": [
        "for i in d.items() : \n",
        "  print(i)"
      ],
      "metadata": {
        "colab": {
          "base_uri": "https://localhost:8080/"
        },
        "id": "fHzuUe2ip0CF",
        "outputId": "4b07c8e1-f237-488d-8c28-09bbf9234445"
      },
      "execution_count": null,
      "outputs": [
        {
          "output_type": "stream",
          "name": "stdout",
          "text": [
            "('a', [1, 2])\n",
            "('b', [3])\n"
          ]
        }
      ]
    },
    {
      "cell_type": "code",
      "source": [
        "d = defaultdict(set)\n",
        "d['a'].add(1)\n",
        "d['a'].add(2)\n",
        "d['b'].add(3)"
      ],
      "metadata": {
        "id": "3yeOkDJSplQZ"
      },
      "execution_count": null,
      "outputs": []
    },
    {
      "cell_type": "code",
      "source": [
        "for i in d.items() : \n",
        "  print(i)"
      ],
      "metadata": {
        "colab": {
          "base_uri": "https://localhost:8080/"
        },
        "id": "9l8vm0FRplN4",
        "outputId": "f5c680e5-ca05-4d26-ad9c-969971713ea5"
      },
      "execution_count": null,
      "outputs": [
        {
          "output_type": "stream",
          "name": "stdout",
          "text": [
            "('a', {1, 2})\n",
            "('b', {3})\n"
          ]
        }
      ]
    },
    {
      "cell_type": "code",
      "source": [
        "from collections import OrderedDict"
      ],
      "metadata": {
        "id": "8nrMsHu8plLk"
      },
      "execution_count": null,
      "outputs": []
    },
    {
      "cell_type": "code",
      "source": [
        "d = OrderedDict() \n",
        "d['foo'] = 1 \n",
        "d['bar'] = 3 \n",
        "d['spam'] = 2\n",
        "d['grok'] = 4"
      ],
      "metadata": {
        "id": "bqT10WBJplJb"
      },
      "execution_count": null,
      "outputs": []
    },
    {
      "cell_type": "code",
      "source": [
        "for key in d  :\n",
        "  print(key)"
      ],
      "metadata": {
        "colab": {
          "base_uri": "https://localhost:8080/"
        },
        "id": "gSUyRZJZplHF",
        "outputId": "29ef55b9-e11c-426d-cfbd-8d2f95007e54"
      },
      "execution_count": null,
      "outputs": [
        {
          "output_type": "stream",
          "name": "stdout",
          "text": [
            "foo\n",
            "bar\n",
            "spam\n",
            "grok\n"
          ]
        }
      ]
    },
    {
      "cell_type": "markdown",
      "source": [
        "#sorting the dict "
      ],
      "metadata": {
        "id": "0qbPyvAKtxsN"
      }
    },
    {
      "cell_type": "code",
      "source": [
        "prices = {\n",
        "'ACME': 45.23,\n",
        "'AAPL': 612.78,\n",
        "'IBM': 205.55,\n",
        "'HPQ': 37.20,\n",
        "'FB': 10.75\n",
        "}"
      ],
      "metadata": {
        "id": "cQ7Z_q6Htxpl"
      },
      "execution_count": null,
      "outputs": []
    },
    {
      "cell_type": "code",
      "source": [
        "min_price =min(zip(prices.values() , prices.keys() ))\n",
        "print(min_price)\n",
        "\n",
        "\n",
        "max_prices  = max(zip(prices.values() ,prices.keys()))\n",
        "print(max_prices)\n",
        "\n"
      ],
      "metadata": {
        "colab": {
          "base_uri": "https://localhost:8080/"
        },
        "id": "5WqVe0y8txmC",
        "outputId": "8186ce72-4c07-4e1e-9cdb-59134232754f"
      },
      "execution_count": null,
      "outputs": [
        {
          "output_type": "stream",
          "name": "stdout",
          "text": [
            "(10.75, 'FB')\n",
            "(612.78, 'AAPL')\n"
          ]
        }
      ]
    },
    {
      "cell_type": "code",
      "source": [
        "prices_sorted = sorted(zip(prices.values() , prices.keys())) \n",
        "prices_sorted "
      ],
      "metadata": {
        "colab": {
          "base_uri": "https://localhost:8080/"
        },
        "id": "DkIxCzjAu1sH",
        "outputId": "58ab116a-571b-43d2-f73a-e701374cc1ab"
      },
      "execution_count": null,
      "outputs": [
        {
          "output_type": "execute_result",
          "data": {
            "text/plain": [
              "[(10.75, 'FB'),\n",
              " (37.2, 'HPQ'),\n",
              " (45.23, 'ACME'),\n",
              " (205.55, 'IBM'),\n",
              " (612.78, 'AAPL')]"
            ]
          },
          "metadata": {},
          "execution_count": 34
        }
      ]
    },
    {
      "cell_type": "code",
      "source": [
        "a = {\n",
        "'x' : 1,\n",
        "'y' : 2,\n",
        "'z' : 3\n",
        "} \n",
        "\n",
        "b = {\n",
        "'w' : 10,\n",
        "'x' : 11,\n",
        "'y' : 2\n",
        "}"
      ],
      "metadata": {
        "id": "PmaPzpf-u1p0"
      },
      "execution_count": null,
      "outputs": []
    },
    {
      "cell_type": "code",
      "source": [
        "a.keys() & b.keys() "
      ],
      "metadata": {
        "colab": {
          "base_uri": "https://localhost:8080/"
        },
        "id": "77PuKo2Mu1no",
        "outputId": "abc1ffd0-a64c-4a93-f797-b49aa2707525"
      },
      "execution_count": null,
      "outputs": [
        {
          "output_type": "execute_result",
          "data": {
            "text/plain": [
              "{'x', 'y'}"
            ]
          },
          "metadata": {},
          "execution_count": 36
        }
      ]
    },
    {
      "cell_type": "code",
      "source": [
        "a.items() & b.items()"
      ],
      "metadata": {
        "colab": {
          "base_uri": "https://localhost:8080/"
        },
        "id": "8LtVnwtktxam",
        "outputId": "281f3d50-7872-4bb4-8c38-3481ef1b60b5"
      },
      "execution_count": null,
      "outputs": [
        {
          "output_type": "execute_result",
          "data": {
            "text/plain": [
              "{('y', 2)}"
            ]
          },
          "metadata": {},
          "execution_count": 37
        }
      ]
    },
    {
      "cell_type": "code",
      "source": [
        "a.keys() - b.keys()"
      ],
      "metadata": {
        "colab": {
          "base_uri": "https://localhost:8080/"
        },
        "id": "xKbNyeVUtxXR",
        "outputId": "96946cbc-d3cd-4345-9152-040f4d026f76"
      },
      "execution_count": null,
      "outputs": [
        {
          "output_type": "execute_result",
          "data": {
            "text/plain": [
              "{'z'}"
            ]
          },
          "metadata": {},
          "execution_count": 38
        }
      ]
    },
    {
      "cell_type": "code",
      "source": [
        "a.items()  - b.items()"
      ],
      "metadata": {
        "colab": {
          "base_uri": "https://localhost:8080/"
        },
        "id": "O7CbZwRSplEo",
        "outputId": "010d1c62-1980-4636-c2ae-3825e5a52d8b"
      },
      "execution_count": null,
      "outputs": [
        {
          "output_type": "execute_result",
          "data": {
            "text/plain": [
              "{('x', 1), ('z', 3)}"
            ]
          },
          "metadata": {},
          "execution_count": 39
        }
      ]
    },
    {
      "cell_type": "code",
      "source": [
        "c = {key : a[key] for key  in a.keys() - {'z' , 'w'}} \n",
        "c"
      ],
      "metadata": {
        "colab": {
          "base_uri": "https://localhost:8080/"
        },
        "id": "cXlnAYBtyvQH",
        "outputId": "47225f74-2e1c-4652-88af-b237d8bd0891"
      },
      "execution_count": null,
      "outputs": [
        {
          "output_type": "execute_result",
          "data": {
            "text/plain": [
              "{'x': 1, 'y': 2}"
            ]
          },
          "metadata": {},
          "execution_count": 40
        }
      ]
    },
    {
      "cell_type": "markdown",
      "source": [
        "#remove duplicates preserve the order \n",
        "only works for unhashable items \n"
      ],
      "metadata": {
        "id": "XjurWRWLzxGn"
      }
    },
    {
      "cell_type": "code",
      "source": [
        "def deduped(items) :\n",
        "  seen = set()\n",
        "  for  item in items :\n",
        "    if item not in  seen : \n",
        "      yield item \n",
        "      seen.add(item) \n"
      ],
      "metadata": {
        "id": "oD_8gFK3yvMT"
      },
      "execution_count": null,
      "outputs": []
    },
    {
      "cell_type": "code",
      "source": [
        "a = [1, 5, 2, 1, 9, 1, 5, 10] \n",
        "for i in deduped(a)  :\n",
        "  print(i , end = ' ')"
      ],
      "metadata": {
        "colab": {
          "base_uri": "https://localhost:8080/"
        },
        "id": "ZF0qIwmUyvH3",
        "outputId": "f194943c-068b-4d03-886f-7ded4da40354"
      },
      "execution_count": null,
      "outputs": [
        {
          "output_type": "stream",
          "name": "stdout",
          "text": [
            "1 5 2 9 10 "
          ]
        }
      ]
    },
    {
      "cell_type": "code",
      "source": [
        "# works for hashable items as well "
      ],
      "metadata": {
        "id": "9WevlKv4z7FC"
      },
      "execution_count": null,
      "outputs": []
    },
    {
      "cell_type": "code",
      "source": [
        "def dedupe(items , key  = None) : \n",
        "  seen = set() \n",
        "  for  item in items  :\n",
        "    val = item if key is None else key(item) \n",
        "    if val not  in  seen: \n",
        "      yield item \n",
        "      seen.add(val)\n"
      ],
      "metadata": {
        "id": "RdSxyijWz7CE"
      },
      "execution_count": null,
      "outputs": []
    },
    {
      "cell_type": "code",
      "source": [
        "a = [ {'x':1, 'y':2}, {'x':1, 'y':3}, {'x':1, 'y':2}, {'x':2, 'y':4}]\n",
        "list(dedupe(a, key=lambda d: (d['x'],d['y'])))"
      ],
      "metadata": {
        "colab": {
          "base_uri": "https://localhost:8080/"
        },
        "id": "YqLix3AVz6_Q",
        "outputId": "ebcedc1e-42d9-49ad-ab89-73a200c9fe5f"
      },
      "execution_count": null,
      "outputs": [
        {
          "output_type": "execute_result",
          "data": {
            "text/plain": [
              "[{'x': 1, 'y': 2}, {'x': 1, 'y': 3}, {'x': 2, 'y': 4}]"
            ]
          },
          "metadata": {},
          "execution_count": 45
        }
      ]
    },
    {
      "cell_type": "code",
      "source": [
        "# most frequent items  "
      ],
      "metadata": {
        "id": "lzIqpA-vz68p"
      },
      "execution_count": null,
      "outputs": []
    },
    {
      "cell_type": "code",
      "source": [
        "words = [\n",
        "'look', 'into', 'my', 'eyes', 'look', 'into', 'my', 'eyes',\n",
        "'the', 'eyes', 'the', 'eyes', 'the', 'eyes', 'not', 'around', 'the',\n",
        "'eyes', \"don't\", 'look', 'around', 'the', 'eyes', 'look', 'into',\n",
        "'my', 'eyes', \"you're\", 'under'\n",
        "]"
      ],
      "metadata": {
        "id": "Ll7hwtvez66G"
      },
      "execution_count": null,
      "outputs": []
    },
    {
      "cell_type": "code",
      "source": [
        "from collections import Counter \n",
        "word_count =  Counter(words)"
      ],
      "metadata": {
        "id": "1b6kKEyDz63Y"
      },
      "execution_count": null,
      "outputs": []
    },
    {
      "cell_type": "code",
      "source": [
        "top_3 = word_count.most_common(3) \n",
        "top_3"
      ],
      "metadata": {
        "colab": {
          "base_uri": "https://localhost:8080/"
        },
        "id": "POmV8WWiz6zP",
        "outputId": "c9f395dc-1edb-4ad6-cb7a-c9bdf1823018"
      },
      "execution_count": null,
      "outputs": [
        {
          "output_type": "execute_result",
          "data": {
            "text/plain": [
              "[('eyes', 8), ('the', 5), ('look', 4)]"
            ]
          },
          "metadata": {},
          "execution_count": 49
        }
      ]
    },
    {
      "cell_type": "code",
      "source": [
        "# sorting dic by common naming keys"
      ],
      "metadata": {
        "id": "qQimsX4lplCO"
      },
      "execution_count": null,
      "outputs": []
    },
    {
      "cell_type": "code",
      "source": [
        "rows = [\n",
        "{'fname': 'Brian', 'lname': 'Jones', 'uid': 1003},\n",
        "{'fname': 'David', 'lname': 'Beazley', 'uid': 1002},\n",
        "{'fname': 'John', 'lname': 'Cleese', 'uid': 1001},\n",
        "{'fname': 'Big', 'lname': 'Jones', 'uid': 1004}\n",
        "]"
      ],
      "metadata": {
        "id": "tegOrqJIpk_p"
      },
      "execution_count": null,
      "outputs": []
    },
    {
      "cell_type": "code",
      "source": [
        "import pandas as pd \n",
        "data = pd.DataFrame(rows) \n",
        "data"
      ],
      "metadata": {
        "colab": {
          "base_uri": "https://localhost:8080/",
          "height": 175
        },
        "id": "VQxh-7wIpk84",
        "outputId": "5e972538-b8a1-42b6-b88e-c5436f53b47a"
      },
      "execution_count": null,
      "outputs": [
        {
          "output_type": "execute_result",
          "data": {
            "text/plain": [
              "   fname    lname   uid\n",
              "0  Brian    Jones  1003\n",
              "1  David  Beazley  1002\n",
              "2   John   Cleese  1001\n",
              "3    Big    Jones  1004"
            ],
            "text/html": [
              "\n",
              "  <div id=\"df-677ade21-3619-4d2e-b36c-95d3b9673580\">\n",
              "    <div class=\"colab-df-container\">\n",
              "      <div>\n",
              "<style scoped>\n",
              "    .dataframe tbody tr th:only-of-type {\n",
              "        vertical-align: middle;\n",
              "    }\n",
              "\n",
              "    .dataframe tbody tr th {\n",
              "        vertical-align: top;\n",
              "    }\n",
              "\n",
              "    .dataframe thead th {\n",
              "        text-align: right;\n",
              "    }\n",
              "</style>\n",
              "<table border=\"1\" class=\"dataframe\">\n",
              "  <thead>\n",
              "    <tr style=\"text-align: right;\">\n",
              "      <th></th>\n",
              "      <th>fname</th>\n",
              "      <th>lname</th>\n",
              "      <th>uid</th>\n",
              "    </tr>\n",
              "  </thead>\n",
              "  <tbody>\n",
              "    <tr>\n",
              "      <th>0</th>\n",
              "      <td>Brian</td>\n",
              "      <td>Jones</td>\n",
              "      <td>1003</td>\n",
              "    </tr>\n",
              "    <tr>\n",
              "      <th>1</th>\n",
              "      <td>David</td>\n",
              "      <td>Beazley</td>\n",
              "      <td>1002</td>\n",
              "    </tr>\n",
              "    <tr>\n",
              "      <th>2</th>\n",
              "      <td>John</td>\n",
              "      <td>Cleese</td>\n",
              "      <td>1001</td>\n",
              "    </tr>\n",
              "    <tr>\n",
              "      <th>3</th>\n",
              "      <td>Big</td>\n",
              "      <td>Jones</td>\n",
              "      <td>1004</td>\n",
              "    </tr>\n",
              "  </tbody>\n",
              "</table>\n",
              "</div>\n",
              "      <button class=\"colab-df-convert\" onclick=\"convertToInteractive('df-677ade21-3619-4d2e-b36c-95d3b9673580')\"\n",
              "              title=\"Convert this dataframe to an interactive table.\"\n",
              "              style=\"display:none;\">\n",
              "        \n",
              "  <svg xmlns=\"http://www.w3.org/2000/svg\" height=\"24px\"viewBox=\"0 0 24 24\"\n",
              "       width=\"24px\">\n",
              "    <path d=\"M0 0h24v24H0V0z\" fill=\"none\"/>\n",
              "    <path d=\"M18.56 5.44l.94 2.06.94-2.06 2.06-.94-2.06-.94-.94-2.06-.94 2.06-2.06.94zm-11 1L8.5 8.5l.94-2.06 2.06-.94-2.06-.94L8.5 2.5l-.94 2.06-2.06.94zm10 10l.94 2.06.94-2.06 2.06-.94-2.06-.94-.94-2.06-.94 2.06-2.06.94z\"/><path d=\"M17.41 7.96l-1.37-1.37c-.4-.4-.92-.59-1.43-.59-.52 0-1.04.2-1.43.59L10.3 9.45l-7.72 7.72c-.78.78-.78 2.05 0 2.83L4 21.41c.39.39.9.59 1.41.59.51 0 1.02-.2 1.41-.59l7.78-7.78 2.81-2.81c.8-.78.8-2.07 0-2.86zM5.41 20L4 18.59l7.72-7.72 1.47 1.35L5.41 20z\"/>\n",
              "  </svg>\n",
              "      </button>\n",
              "      \n",
              "  <style>\n",
              "    .colab-df-container {\n",
              "      display:flex;\n",
              "      flex-wrap:wrap;\n",
              "      gap: 12px;\n",
              "    }\n",
              "\n",
              "    .colab-df-convert {\n",
              "      background-color: #E8F0FE;\n",
              "      border: none;\n",
              "      border-radius: 50%;\n",
              "      cursor: pointer;\n",
              "      display: none;\n",
              "      fill: #1967D2;\n",
              "      height: 32px;\n",
              "      padding: 0 0 0 0;\n",
              "      width: 32px;\n",
              "    }\n",
              "\n",
              "    .colab-df-convert:hover {\n",
              "      background-color: #E2EBFA;\n",
              "      box-shadow: 0px 1px 2px rgba(60, 64, 67, 0.3), 0px 1px 3px 1px rgba(60, 64, 67, 0.15);\n",
              "      fill: #174EA6;\n",
              "    }\n",
              "\n",
              "    [theme=dark] .colab-df-convert {\n",
              "      background-color: #3B4455;\n",
              "      fill: #D2E3FC;\n",
              "    }\n",
              "\n",
              "    [theme=dark] .colab-df-convert:hover {\n",
              "      background-color: #434B5C;\n",
              "      box-shadow: 0px 1px 3px 1px rgba(0, 0, 0, 0.15);\n",
              "      filter: drop-shadow(0px 1px 2px rgba(0, 0, 0, 0.3));\n",
              "      fill: #FFFFFF;\n",
              "    }\n",
              "  </style>\n",
              "\n",
              "      <script>\n",
              "        const buttonEl =\n",
              "          document.querySelector('#df-677ade21-3619-4d2e-b36c-95d3b9673580 button.colab-df-convert');\n",
              "        buttonEl.style.display =\n",
              "          google.colab.kernel.accessAllowed ? 'block' : 'none';\n",
              "\n",
              "        async function convertToInteractive(key) {\n",
              "          const element = document.querySelector('#df-677ade21-3619-4d2e-b36c-95d3b9673580');\n",
              "          const dataTable =\n",
              "            await google.colab.kernel.invokeFunction('convertToInteractive',\n",
              "                                                     [key], {});\n",
              "          if (!dataTable) return;\n",
              "\n",
              "          const docLinkHtml = 'Like what you see? Visit the ' +\n",
              "            '<a target=\"_blank\" href=https://colab.research.google.com/notebooks/data_table.ipynb>data table notebook</a>'\n",
              "            + ' to learn more about interactive tables.';\n",
              "          element.innerHTML = '';\n",
              "          dataTable['output_type'] = 'display_data';\n",
              "          await google.colab.output.renderOutput(dataTable, element);\n",
              "          const docLink = document.createElement('div');\n",
              "          docLink.innerHTML = docLinkHtml;\n",
              "          element.appendChild(docLink);\n",
              "        }\n",
              "      </script>\n",
              "    </div>\n",
              "  </div>\n",
              "  "
            ]
          },
          "metadata": {},
          "execution_count": 52
        }
      ]
    },
    {
      "cell_type": "code",
      "source": [
        "data.sort_values(['fname' , 'uid'])\n",
        "#page 26"
      ],
      "metadata": {
        "colab": {
          "base_uri": "https://localhost:8080/",
          "height": 175
        },
        "id": "uF2znFUo4Aut",
        "outputId": "86e55c67-7257-45df-a4ca-021d47af760f"
      },
      "execution_count": null,
      "outputs": [
        {
          "output_type": "execute_result",
          "data": {
            "text/plain": [
              "   fname    lname   uid\n",
              "3    Big    Jones  1004\n",
              "0  Brian    Jones  1003\n",
              "1  David  Beazley  1002\n",
              "2   John   Cleese  1001"
            ],
            "text/html": [
              "\n",
              "  <div id=\"df-e0da7b04-fc77-4138-8be4-11a6d92a0469\">\n",
              "    <div class=\"colab-df-container\">\n",
              "      <div>\n",
              "<style scoped>\n",
              "    .dataframe tbody tr th:only-of-type {\n",
              "        vertical-align: middle;\n",
              "    }\n",
              "\n",
              "    .dataframe tbody tr th {\n",
              "        vertical-align: top;\n",
              "    }\n",
              "\n",
              "    .dataframe thead th {\n",
              "        text-align: right;\n",
              "    }\n",
              "</style>\n",
              "<table border=\"1\" class=\"dataframe\">\n",
              "  <thead>\n",
              "    <tr style=\"text-align: right;\">\n",
              "      <th></th>\n",
              "      <th>fname</th>\n",
              "      <th>lname</th>\n",
              "      <th>uid</th>\n",
              "    </tr>\n",
              "  </thead>\n",
              "  <tbody>\n",
              "    <tr>\n",
              "      <th>3</th>\n",
              "      <td>Big</td>\n",
              "      <td>Jones</td>\n",
              "      <td>1004</td>\n",
              "    </tr>\n",
              "    <tr>\n",
              "      <th>0</th>\n",
              "      <td>Brian</td>\n",
              "      <td>Jones</td>\n",
              "      <td>1003</td>\n",
              "    </tr>\n",
              "    <tr>\n",
              "      <th>1</th>\n",
              "      <td>David</td>\n",
              "      <td>Beazley</td>\n",
              "      <td>1002</td>\n",
              "    </tr>\n",
              "    <tr>\n",
              "      <th>2</th>\n",
              "      <td>John</td>\n",
              "      <td>Cleese</td>\n",
              "      <td>1001</td>\n",
              "    </tr>\n",
              "  </tbody>\n",
              "</table>\n",
              "</div>\n",
              "      <button class=\"colab-df-convert\" onclick=\"convertToInteractive('df-e0da7b04-fc77-4138-8be4-11a6d92a0469')\"\n",
              "              title=\"Convert this dataframe to an interactive table.\"\n",
              "              style=\"display:none;\">\n",
              "        \n",
              "  <svg xmlns=\"http://www.w3.org/2000/svg\" height=\"24px\"viewBox=\"0 0 24 24\"\n",
              "       width=\"24px\">\n",
              "    <path d=\"M0 0h24v24H0V0z\" fill=\"none\"/>\n",
              "    <path d=\"M18.56 5.44l.94 2.06.94-2.06 2.06-.94-2.06-.94-.94-2.06-.94 2.06-2.06.94zm-11 1L8.5 8.5l.94-2.06 2.06-.94-2.06-.94L8.5 2.5l-.94 2.06-2.06.94zm10 10l.94 2.06.94-2.06 2.06-.94-2.06-.94-.94-2.06-.94 2.06-2.06.94z\"/><path d=\"M17.41 7.96l-1.37-1.37c-.4-.4-.92-.59-1.43-.59-.52 0-1.04.2-1.43.59L10.3 9.45l-7.72 7.72c-.78.78-.78 2.05 0 2.83L4 21.41c.39.39.9.59 1.41.59.51 0 1.02-.2 1.41-.59l7.78-7.78 2.81-2.81c.8-.78.8-2.07 0-2.86zM5.41 20L4 18.59l7.72-7.72 1.47 1.35L5.41 20z\"/>\n",
              "  </svg>\n",
              "      </button>\n",
              "      \n",
              "  <style>\n",
              "    .colab-df-container {\n",
              "      display:flex;\n",
              "      flex-wrap:wrap;\n",
              "      gap: 12px;\n",
              "    }\n",
              "\n",
              "    .colab-df-convert {\n",
              "      background-color: #E8F0FE;\n",
              "      border: none;\n",
              "      border-radius: 50%;\n",
              "      cursor: pointer;\n",
              "      display: none;\n",
              "      fill: #1967D2;\n",
              "      height: 32px;\n",
              "      padding: 0 0 0 0;\n",
              "      width: 32px;\n",
              "    }\n",
              "\n",
              "    .colab-df-convert:hover {\n",
              "      background-color: #E2EBFA;\n",
              "      box-shadow: 0px 1px 2px rgba(60, 64, 67, 0.3), 0px 1px 3px 1px rgba(60, 64, 67, 0.15);\n",
              "      fill: #174EA6;\n",
              "    }\n",
              "\n",
              "    [theme=dark] .colab-df-convert {\n",
              "      background-color: #3B4455;\n",
              "      fill: #D2E3FC;\n",
              "    }\n",
              "\n",
              "    [theme=dark] .colab-df-convert:hover {\n",
              "      background-color: #434B5C;\n",
              "      box-shadow: 0px 1px 3px 1px rgba(0, 0, 0, 0.15);\n",
              "      filter: drop-shadow(0px 1px 2px rgba(0, 0, 0, 0.3));\n",
              "      fill: #FFFFFF;\n",
              "    }\n",
              "  </style>\n",
              "\n",
              "      <script>\n",
              "        const buttonEl =\n",
              "          document.querySelector('#df-e0da7b04-fc77-4138-8be4-11a6d92a0469 button.colab-df-convert');\n",
              "        buttonEl.style.display =\n",
              "          google.colab.kernel.accessAllowed ? 'block' : 'none';\n",
              "\n",
              "        async function convertToInteractive(key) {\n",
              "          const element = document.querySelector('#df-e0da7b04-fc77-4138-8be4-11a6d92a0469');\n",
              "          const dataTable =\n",
              "            await google.colab.kernel.invokeFunction('convertToInteractive',\n",
              "                                                     [key], {});\n",
              "          if (!dataTable) return;\n",
              "\n",
              "          const docLinkHtml = 'Like what you see? Visit the ' +\n",
              "            '<a target=\"_blank\" href=https://colab.research.google.com/notebooks/data_table.ipynb>data table notebook</a>'\n",
              "            + ' to learn more about interactive tables.';\n",
              "          element.innerHTML = '';\n",
              "          dataTable['output_type'] = 'display_data';\n",
              "          await google.colab.output.renderOutput(dataTable, element);\n",
              "          const docLink = document.createElement('div');\n",
              "          docLink.innerHTML = docLinkHtml;\n",
              "          element.appendChild(docLink);\n",
              "        }\n",
              "      </script>\n",
              "    </div>\n",
              "  </div>\n",
              "  "
            ]
          },
          "metadata": {},
          "execution_count": 53
        }
      ]
    },
    {
      "cell_type": "code",
      "source": [
        "from operator import itemgetter"
      ],
      "metadata": {
        "id": "4F5dhJiuU5BE"
      },
      "execution_count": null,
      "outputs": []
    },
    {
      "cell_type": "code",
      "source": [
        "rows_by_fname  = sorted(rows , key = itemgetter('fname'))\n",
        "rows_by_fname"
      ],
      "metadata": {
        "colab": {
          "base_uri": "https://localhost:8080/"
        },
        "id": "omWFeRNdU4-M",
        "outputId": "54212ab0-b931-44f6-f09b-4b01018d3c81"
      },
      "execution_count": null,
      "outputs": [
        {
          "output_type": "execute_result",
          "data": {
            "text/plain": [
              "[{'fname': 'Big', 'lname': 'Jones', 'uid': 1004},\n",
              " {'fname': 'Brian', 'lname': 'Jones', 'uid': 1003},\n",
              " {'fname': 'David', 'lname': 'Beazley', 'uid': 1002},\n",
              " {'fname': 'John', 'lname': 'Cleese', 'uid': 1001}]"
            ]
          },
          "metadata": {},
          "execution_count": 55
        }
      ]
    },
    {
      "cell_type": "code",
      "source": [
        "rows_by_uid  =sorted(rows , key  = itemgetter('uid'))\n",
        "rows_by_uid"
      ],
      "metadata": {
        "colab": {
          "base_uri": "https://localhost:8080/"
        },
        "id": "UjXCH79EU47J",
        "outputId": "94aab28f-d0d2-4909-9aca-c0661dd42936"
      },
      "execution_count": null,
      "outputs": [
        {
          "output_type": "execute_result",
          "data": {
            "text/plain": [
              "[{'fname': 'John', 'lname': 'Cleese', 'uid': 1001},\n",
              " {'fname': 'David', 'lname': 'Beazley', 'uid': 1002},\n",
              " {'fname': 'Brian', 'lname': 'Jones', 'uid': 1003},\n",
              " {'fname': 'Big', 'lname': 'Jones', 'uid': 1004}]"
            ]
          },
          "metadata": {},
          "execution_count": 56
        }
      ]
    },
    {
      "cell_type": "code",
      "source": [
        "# how to sort objects using attrgetter  , which is improted from operator "
      ],
      "metadata": {
        "id": "WEMuVfQlXLhZ"
      },
      "execution_count": null,
      "outputs": []
    },
    {
      "cell_type": "code",
      "source": [
        "class User : \n",
        "  def __init__(self , user_id) :\n",
        "    self.user_id = user_id \n",
        "\n",
        "  def __repr__(self) : \n",
        "    return 'User({})'.format(self.user_id) \n",
        "\n",
        "\n"
      ],
      "metadata": {
        "id": "2XdzYGTpV5BB"
      },
      "execution_count": null,
      "outputs": []
    },
    {
      "cell_type": "code",
      "source": [
        "from operator import attrgetter"
      ],
      "metadata": {
        "id": "S1zb_GnMXCp3"
      },
      "execution_count": null,
      "outputs": []
    },
    {
      "cell_type": "code",
      "source": [
        "users = [User(23), User(3), User(99)] \n",
        "sorted(users , key = attrgetter(\"user_id\"))     #sorted(users , key = lambda x :x.user_id)"
      ],
      "metadata": {
        "colab": {
          "base_uri": "https://localhost:8080/"
        },
        "id": "URRgC5hSV4-J",
        "outputId": "ee98b1a7-1663-41f9-91cc-dcdb0c949be7"
      },
      "execution_count": null,
      "outputs": [
        {
          "output_type": "execute_result",
          "data": {
            "text/plain": [
              "[User(3), User(23), User(99)]"
            ]
          },
          "metadata": {},
          "execution_count": 60
        }
      ]
    },
    {
      "cell_type": "code",
      "source": [
        "rows = [\n",
        "{'address': '5412 N CLARK', 'date': '07/01/2012'},\n",
        "{'address': '5148 N CLARK', 'date': '07/04/2012'},\n",
        "{'address': '5800 E 58TH', 'date': '07/02/2012'},\n",
        "{'address': '2122 N CLARK', 'date': '07/03/2012'},\n",
        "{'address': '5645 N RAVENSWOOD', 'date': '07/02/2012'},\n",
        "{'address': '1060 W ADDISON', 'date': '07/02/2012'},\n",
        "{'address': '4801 N BROADWAY', 'date': '07/01/2012'},\n",
        "{'address': '1039 W GRANVILLE', 'date': '07/04/2012'},\n",
        "]"
      ],
      "metadata": {
        "id": "mKNp1fnpXW81"
      },
      "execution_count": null,
      "outputs": []
    },
    {
      "cell_type": "code",
      "source": [
        "from operator import itemgetter \n",
        "from itertools import groupby "
      ],
      "metadata": {
        "id": "ExNaBPGkXW5K"
      },
      "execution_count": null,
      "outputs": []
    },
    {
      "cell_type": "code",
      "source": [
        "rows.sort(key = itemgetter('date'))"
      ],
      "metadata": {
        "id": "cxa2F1ikXW2X"
      },
      "execution_count": null,
      "outputs": []
    },
    {
      "cell_type": "code",
      "source": [
        "for date, items in groupby(rows , key = itemgetter('date'))   :\n",
        "  print(date) \n",
        "  for i in items : \n",
        "    print('   '  ,i) \n"
      ],
      "metadata": {
        "colab": {
          "base_uri": "https://localhost:8080/"
        },
        "id": "A41L9oh1XWzd",
        "outputId": "d540efb2-0a7b-414f-94cb-26788b06b576"
      },
      "execution_count": null,
      "outputs": [
        {
          "output_type": "stream",
          "name": "stdout",
          "text": [
            "07/01/2012\n",
            "    {'address': '5412 N CLARK', 'date': '07/01/2012'}\n",
            "    {'address': '4801 N BROADWAY', 'date': '07/01/2012'}\n",
            "07/02/2012\n",
            "    {'address': '5800 E 58TH', 'date': '07/02/2012'}\n",
            "    {'address': '5645 N RAVENSWOOD', 'date': '07/02/2012'}\n",
            "    {'address': '1060 W ADDISON', 'date': '07/02/2012'}\n",
            "07/03/2012\n",
            "    {'address': '2122 N CLARK', 'date': '07/03/2012'}\n",
            "07/04/2012\n",
            "    {'address': '5148 N CLARK', 'date': '07/04/2012'}\n",
            "    {'address': '1039 W GRANVILLE', 'date': '07/04/2012'}\n"
          ]
        }
      ]
    },
    {
      "cell_type": "code",
      "source": [
        "mylist = [1, 4, -5, 10, -7, 2, 3, -1] \n",
        "\n",
        "pos_list = [ i for  i in mylist if  i >  0 ]\n",
        "neg_list = [ i for  i in mylist if  i <= 0]\n",
        "pos_list , neg_list"
      ],
      "metadata": {
        "colab": {
          "base_uri": "https://localhost:8080/"
        },
        "id": "-GeK6nr__0N-",
        "outputId": "3f61687d-4660-4272-a507-02d87517384a"
      },
      "execution_count": null,
      "outputs": [
        {
          "output_type": "execute_result",
          "data": {
            "text/plain": [
              "([1, 4, 10, 2, 3], [-5, -7, -1])"
            ]
          },
          "metadata": {},
          "execution_count": 67
        }
      ]
    },
    {
      "cell_type": "code",
      "source": [
        "values = ['1', '2', '-3', '-', '4', 'N/A', '5'] \n",
        "\n",
        "def is_int(val) : \n",
        "  try : \n",
        "    x = int(val) \n",
        "    return True \n",
        "  except ValueError :\n",
        "    return False \n",
        "    \n"
      ],
      "metadata": {
        "id": "VyNoL9lY_0Jx"
      },
      "execution_count": null,
      "outputs": []
    },
    {
      "cell_type": "code",
      "source": [
        "ivals  = list(filter(is_int , values))\n",
        "print(ivals)"
      ],
      "metadata": {
        "colab": {
          "base_uri": "https://localhost:8080/"
        },
        "id": "UTGftk5M_0Hb",
        "outputId": "60de77b7-1dbe-4bf9-d87b-3b5964b00368"
      },
      "execution_count": null,
      "outputs": [
        {
          "output_type": "stream",
          "name": "stdout",
          "text": [
            "['1', '2', '-3', '4', '5']\n"
          ]
        }
      ]
    },
    {
      "cell_type": "code",
      "source": [
        "pos = ( i for  i in mylist if  i >  0 )\n",
        "list(pos)"
      ],
      "metadata": {
        "colab": {
          "base_uri": "https://localhost:8080/"
        },
        "id": "wqM33aGI_0Bc",
        "outputId": "0bb0377b-7edb-4f1e-bbac-7c66420226fd"
      },
      "execution_count": null,
      "outputs": [
        {
          "output_type": "execute_result",
          "data": {
            "text/plain": [
              "[1, 4, 10, 2, 3]"
            ]
          },
          "metadata": {},
          "execution_count": 74
        }
      ]
    },
    {
      "cell_type": "code",
      "source": [
        ""
      ],
      "metadata": {
        "id": "EyRaREfSXWwU"
      },
      "execution_count": null,
      "outputs": []
    },
    {
      "cell_type": "code",
      "source": [
        ""
      ],
      "metadata": {
        "id": "OtTC7jUhV47N"
      },
      "execution_count": null,
      "outputs": []
    },
    {
      "cell_type": "code",
      "source": [
        ""
      ],
      "metadata": {
        "id": "03pmc8pWU420"
      },
      "execution_count": null,
      "outputs": []
    },
    {
      "cell_type": "code",
      "source": [
        ""
      ],
      "metadata": {
        "id": "rDvVDzzy3i0q"
      },
      "execution_count": null,
      "outputs": []
    },
    {
      "cell_type": "code",
      "source": [
        ""
      ],
      "metadata": {
        "id": "Gwyc3Spq3ixs"
      },
      "execution_count": null,
      "outputs": []
    },
    {
      "cell_type": "code",
      "source": [
        ""
      ],
      "metadata": {
        "id": "0b3hzDLfpk6O"
      },
      "execution_count": null,
      "outputs": []
    },
    {
      "cell_type": "code",
      "source": [
        ""
      ],
      "metadata": {
        "id": "mVHX5FEzvfcY"
      },
      "execution_count": null,
      "outputs": []
    }
  ]
}