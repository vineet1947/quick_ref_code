{
  "nbformat": 4,
  "nbformat_minor": 0,
  "metadata": {
    "colab": {
      "name": "statistics.ipynb",
      "provenance": [],
      "collapsed_sections": [],
      "authorship_tag": "ABX9TyNnb7n8B7T1LUzoqrtwNmqf",
      "include_colab_link": true
    },
    "kernelspec": {
      "name": "python3",
      "display_name": "Python 3"
    },
    "language_info": {
      "name": "python"
    },
    "gpuClass": "standard"
  },
  "cells": [
    {
      "cell_type": "markdown",
      "metadata": {
        "id": "view-in-github",
        "colab_type": "text"
      },
      "source": [
        "<a href=\"https://colab.research.google.com/github/vineet1947/quick_ref_code/blob/main/statistics.ipynb\" target=\"_parent\"><img src=\"https://colab.research.google.com/assets/colab-badge.svg\" alt=\"Open In Colab\"/></a>"
      ]
    },
    {
      "cell_type": "code",
      "execution_count": null,
      "metadata": {
        "id": "rtSeG71VhLqv"
      },
      "outputs": [],
      "source": [
        "users = [\n",
        "{ \"id\": 0, \"name\": \"Hero\" },\n",
        "{ \"id\": 1, \"name\": \"Dunn\" },\n",
        "{ \"id\": 2, \"name\": \"Sue\" },\n",
        "{ \"id\": 3, \"name\": \"Chi\" },\n",
        "{ \"id\": 4, \"name\": \"Thor\" },\n",
        "{ \"id\": 5, \"name\": \"Clive\" },\n",
        "{ \"id\": 6, \"name\": \"Hicks\" },\n",
        "{ \"id\": 7, \"name\": \"Devin\" },\n",
        "{ \"id\": 8, \"name\": \"Kate\" },\n",
        "{ \"id\": 9, \"name\": \"Klein\" }\n",
        "]"
      ]
    },
    {
      "cell_type": "code",
      "source": [
        "friendships = [(0, 1), (0, 2), (1, 2), (1, 3), (2, 3), (3, 4),\n",
        "(4, 5), (5, 6), (5, 7), (6, 8), (7, 8), (8, 9)]"
      ],
      "metadata": {
        "id": "ji3ctjUApVoo"
      },
      "execution_count": null,
      "outputs": []
    },
    {
      "cell_type": "code",
      "source": [
        "for user in users : \n",
        "  user['friends'] =  []"
      ],
      "metadata": {
        "id": "s1JN5kkuxZ0U"
      },
      "execution_count": null,
      "outputs": []
    },
    {
      "cell_type": "code",
      "source": [
        "for i,  j in friendships  : \n",
        "  users[i]['friends'].append(users[j]) \n",
        "  users[j]['friends'].append(users[i])"
      ],
      "metadata": {
        "id": "IdK7ZjAn0GqX"
      },
      "execution_count": null,
      "outputs": []
    },
    {
      "cell_type": "code",
      "source": [
        "def friends_len(user):\n",
        "  return len(user['friends'])\n"
      ],
      "metadata": {
        "id": "8qwD2Pw72RWH"
      },
      "execution_count": null,
      "outputs": []
    },
    {
      "cell_type": "code",
      "source": [
        "total_connections = sum( friends_len(user) for user in users )"
      ],
      "metadata": {
        "id": "0ca1xEz82e8t"
      },
      "execution_count": null,
      "outputs": []
    },
    {
      "cell_type": "code",
      "source": [
        "total_connections"
      ],
      "metadata": {
        "colab": {
          "base_uri": "https://localhost:8080/"
        },
        "id": "liItoTkApV0Z",
        "outputId": "99ae9b3a-6ee4-4816-ea69-78ec4cc41aa6"
      },
      "execution_count": null,
      "outputs": [
        {
          "output_type": "execute_result",
          "data": {
            "text/plain": [
              "24"
            ]
          },
          "metadata": {},
          "execution_count": 7
        }
      ]
    },
    {
      "cell_type": "code",
      "source": [
        "from __future__ import division # integer division is lame\n",
        "num_users = len(users) # length of the users list\n",
        "avg_connections = total_connections / num_users \n",
        "avg_connections"
      ],
      "metadata": {
        "colab": {
          "base_uri": "https://localhost:8080/"
        },
        "id": "fpbToab5pWM8",
        "outputId": "3cd1c6af-407d-4ed0-c9b5-45b38568df31"
      },
      "execution_count": null,
      "outputs": [
        {
          "output_type": "execute_result",
          "data": {
            "text/plain": [
              "2.4"
            ]
          },
          "metadata": {},
          "execution_count": 8
        }
      ]
    },
    {
      "cell_type": "code",
      "source": [
        "numberoffriendsbyid   = [(user['id']  ,  friends_len(user))for user in users ] \n",
        "numberoffriendsbyid"
      ],
      "metadata": {
        "colab": {
          "base_uri": "https://localhost:8080/"
        },
        "id": "8OG049OspWQ_",
        "outputId": "57fe49eb-61d5-4b8d-bc1a-d399e9015bd8"
      },
      "execution_count": null,
      "outputs": [
        {
          "output_type": "execute_result",
          "data": {
            "text/plain": [
              "[(0, 2),\n",
              " (1, 3),\n",
              " (2, 3),\n",
              " (3, 3),\n",
              " (4, 2),\n",
              " (5, 3),\n",
              " (6, 2),\n",
              " (7, 2),\n",
              " (8, 3),\n",
              " (9, 1)]"
            ]
          },
          "metadata": {},
          "execution_count": 9
        }
      ]
    },
    {
      "cell_type": "code",
      "source": [
        "hello  = [user['id'] for user in users  ]\n",
        "hello "
      ],
      "metadata": {
        "colab": {
          "base_uri": "https://localhost:8080/"
        },
        "id": "CinJgUGv6b81",
        "outputId": "812242fb-b9a6-4251-8b5c-6c7872a6fee8"
      },
      "execution_count": null,
      "outputs": [
        {
          "output_type": "execute_result",
          "data": {
            "text/plain": [
              "[0, 1, 2, 3, 4, 5, 6, 7, 8, 9]"
            ]
          },
          "metadata": {},
          "execution_count": 10
        }
      ]
    },
    {
      "cell_type": "code",
      "source": [
        "sorted(numberoffriendsbyid , key = lambda x: x[1] ,  reverse  = True) "
      ],
      "metadata": {
        "colab": {
          "base_uri": "https://localhost:8080/"
        },
        "id": "py20oUDJ9T6S",
        "outputId": "0baa8f0d-0b11-4ca8-df54-7508623bef97"
      },
      "execution_count": null,
      "outputs": [
        {
          "output_type": "execute_result",
          "data": {
            "text/plain": [
              "[(1, 3),\n",
              " (2, 3),\n",
              " (3, 3),\n",
              " (5, 3),\n",
              " (8, 3),\n",
              " (0, 2),\n",
              " (4, 2),\n",
              " (6, 2),\n",
              " (7, 2),\n",
              " (9, 1)]"
            ]
          },
          "metadata": {},
          "execution_count": 11
        }
      ]
    },
    {
      "cell_type": "code",
      "source": [
        "sat = [(83000, 8.7), (88000, 8.1),\n",
        "(48000, 0.7), (76000, 6),\n",
        "(69000, 6.5), (76000, 7.5),\n",
        "(60000, 2.5), (83000, 10),\n",
        "(48000, 1.9), (63000, 4.2)]"
      ],
      "metadata": {
        "id": "eQrs-cuSpWVt"
      },
      "execution_count": null,
      "outputs": []
    },
    {
      "cell_type": "code",
      "source": [
        "import pandas as pd "
      ],
      "metadata": {
        "id": "-JL4787C-cgd"
      },
      "execution_count": null,
      "outputs": []
    },
    {
      "cell_type": "code",
      "source": [
        "ser  = pd.DataFrame(sat)\n",
        "ser.columns = ['salary' , 'tenure']"
      ],
      "metadata": {
        "id": "Vvs1DtfC-ceI"
      },
      "execution_count": null,
      "outputs": []
    },
    {
      "cell_type": "code",
      "source": [
        "ser"
      ],
      "metadata": {
        "colab": {
          "base_uri": "https://localhost:8080/",
          "height": 363
        },
        "id": "iEMtN3ch-cbe",
        "outputId": "82b87ed9-a3ae-47e0-87ee-597b36f69622"
      },
      "execution_count": null,
      "outputs": [
        {
          "output_type": "execute_result",
          "data": {
            "text/plain": [
              "   salary  tenure\n",
              "0   83000     8.7\n",
              "1   88000     8.1\n",
              "2   48000     0.7\n",
              "3   76000     6.0\n",
              "4   69000     6.5\n",
              "5   76000     7.5\n",
              "6   60000     2.5\n",
              "7   83000    10.0\n",
              "8   48000     1.9\n",
              "9   63000     4.2"
            ],
            "text/html": [
              "\n",
              "  <div id=\"df-6927ea4a-ecde-4337-93d2-955de4008531\">\n",
              "    <div class=\"colab-df-container\">\n",
              "      <div>\n",
              "<style scoped>\n",
              "    .dataframe tbody tr th:only-of-type {\n",
              "        vertical-align: middle;\n",
              "    }\n",
              "\n",
              "    .dataframe tbody tr th {\n",
              "        vertical-align: top;\n",
              "    }\n",
              "\n",
              "    .dataframe thead th {\n",
              "        text-align: right;\n",
              "    }\n",
              "</style>\n",
              "<table border=\"1\" class=\"dataframe\">\n",
              "  <thead>\n",
              "    <tr style=\"text-align: right;\">\n",
              "      <th></th>\n",
              "      <th>salary</th>\n",
              "      <th>tenure</th>\n",
              "    </tr>\n",
              "  </thead>\n",
              "  <tbody>\n",
              "    <tr>\n",
              "      <th>0</th>\n",
              "      <td>83000</td>\n",
              "      <td>8.7</td>\n",
              "    </tr>\n",
              "    <tr>\n",
              "      <th>1</th>\n",
              "      <td>88000</td>\n",
              "      <td>8.1</td>\n",
              "    </tr>\n",
              "    <tr>\n",
              "      <th>2</th>\n",
              "      <td>48000</td>\n",
              "      <td>0.7</td>\n",
              "    </tr>\n",
              "    <tr>\n",
              "      <th>3</th>\n",
              "      <td>76000</td>\n",
              "      <td>6.0</td>\n",
              "    </tr>\n",
              "    <tr>\n",
              "      <th>4</th>\n",
              "      <td>69000</td>\n",
              "      <td>6.5</td>\n",
              "    </tr>\n",
              "    <tr>\n",
              "      <th>5</th>\n",
              "      <td>76000</td>\n",
              "      <td>7.5</td>\n",
              "    </tr>\n",
              "    <tr>\n",
              "      <th>6</th>\n",
              "      <td>60000</td>\n",
              "      <td>2.5</td>\n",
              "    </tr>\n",
              "    <tr>\n",
              "      <th>7</th>\n",
              "      <td>83000</td>\n",
              "      <td>10.0</td>\n",
              "    </tr>\n",
              "    <tr>\n",
              "      <th>8</th>\n",
              "      <td>48000</td>\n",
              "      <td>1.9</td>\n",
              "    </tr>\n",
              "    <tr>\n",
              "      <th>9</th>\n",
              "      <td>63000</td>\n",
              "      <td>4.2</td>\n",
              "    </tr>\n",
              "  </tbody>\n",
              "</table>\n",
              "</div>\n",
              "      <button class=\"colab-df-convert\" onclick=\"convertToInteractive('df-6927ea4a-ecde-4337-93d2-955de4008531')\"\n",
              "              title=\"Convert this dataframe to an interactive table.\"\n",
              "              style=\"display:none;\">\n",
              "        \n",
              "  <svg xmlns=\"http://www.w3.org/2000/svg\" height=\"24px\"viewBox=\"0 0 24 24\"\n",
              "       width=\"24px\">\n",
              "    <path d=\"M0 0h24v24H0V0z\" fill=\"none\"/>\n",
              "    <path d=\"M18.56 5.44l.94 2.06.94-2.06 2.06-.94-2.06-.94-.94-2.06-.94 2.06-2.06.94zm-11 1L8.5 8.5l.94-2.06 2.06-.94-2.06-.94L8.5 2.5l-.94 2.06-2.06.94zm10 10l.94 2.06.94-2.06 2.06-.94-2.06-.94-.94-2.06-.94 2.06-2.06.94z\"/><path d=\"M17.41 7.96l-1.37-1.37c-.4-.4-.92-.59-1.43-.59-.52 0-1.04.2-1.43.59L10.3 9.45l-7.72 7.72c-.78.78-.78 2.05 0 2.83L4 21.41c.39.39.9.59 1.41.59.51 0 1.02-.2 1.41-.59l7.78-7.78 2.81-2.81c.8-.78.8-2.07 0-2.86zM5.41 20L4 18.59l7.72-7.72 1.47 1.35L5.41 20z\"/>\n",
              "  </svg>\n",
              "      </button>\n",
              "      \n",
              "  <style>\n",
              "    .colab-df-container {\n",
              "      display:flex;\n",
              "      flex-wrap:wrap;\n",
              "      gap: 12px;\n",
              "    }\n",
              "\n",
              "    .colab-df-convert {\n",
              "      background-color: #E8F0FE;\n",
              "      border: none;\n",
              "      border-radius: 50%;\n",
              "      cursor: pointer;\n",
              "      display: none;\n",
              "      fill: #1967D2;\n",
              "      height: 32px;\n",
              "      padding: 0 0 0 0;\n",
              "      width: 32px;\n",
              "    }\n",
              "\n",
              "    .colab-df-convert:hover {\n",
              "      background-color: #E2EBFA;\n",
              "      box-shadow: 0px 1px 2px rgba(60, 64, 67, 0.3), 0px 1px 3px 1px rgba(60, 64, 67, 0.15);\n",
              "      fill: #174EA6;\n",
              "    }\n",
              "\n",
              "    [theme=dark] .colab-df-convert {\n",
              "      background-color: #3B4455;\n",
              "      fill: #D2E3FC;\n",
              "    }\n",
              "\n",
              "    [theme=dark] .colab-df-convert:hover {\n",
              "      background-color: #434B5C;\n",
              "      box-shadow: 0px 1px 3px 1px rgba(0, 0, 0, 0.15);\n",
              "      filter: drop-shadow(0px 1px 2px rgba(0, 0, 0, 0.3));\n",
              "      fill: #FFFFFF;\n",
              "    }\n",
              "  </style>\n",
              "\n",
              "      <script>\n",
              "        const buttonEl =\n",
              "          document.querySelector('#df-6927ea4a-ecde-4337-93d2-955de4008531 button.colab-df-convert');\n",
              "        buttonEl.style.display =\n",
              "          google.colab.kernel.accessAllowed ? 'block' : 'none';\n",
              "\n",
              "        async function convertToInteractive(key) {\n",
              "          const element = document.querySelector('#df-6927ea4a-ecde-4337-93d2-955de4008531');\n",
              "          const dataTable =\n",
              "            await google.colab.kernel.invokeFunction('convertToInteractive',\n",
              "                                                     [key], {});\n",
              "          if (!dataTable) return;\n",
              "\n",
              "          const docLinkHtml = 'Like what you see? Visit the ' +\n",
              "            '<a target=\"_blank\" href=https://colab.research.google.com/notebooks/data_table.ipynb>data table notebook</a>'\n",
              "            + ' to learn more about interactive tables.';\n",
              "          element.innerHTML = '';\n",
              "          dataTable['output_type'] = 'display_data';\n",
              "          await google.colab.output.renderOutput(dataTable, element);\n",
              "          const docLink = document.createElement('div');\n",
              "          docLink.innerHTML = docLinkHtml;\n",
              "          element.appendChild(docLink);\n",
              "        }\n",
              "      </script>\n",
              "    </div>\n",
              "  </div>\n",
              "  "
            ]
          },
          "metadata": {},
          "execution_count": 15
        }
      ]
    },
    {
      "cell_type": "code",
      "source": [
        "ser.loc[0]"
      ],
      "metadata": {
        "colab": {
          "base_uri": "https://localhost:8080/"
        },
        "id": "g91GejInMQhv",
        "outputId": "4147431e-bafd-4677-9c74-7b31493186ec"
      },
      "execution_count": null,
      "outputs": [
        {
          "output_type": "execute_result",
          "data": {
            "text/plain": [
              "salary    83000.0\n",
              "tenure        8.7\n",
              "Name: 0, dtype: float64"
            ]
          },
          "metadata": {},
          "execution_count": 16
        }
      ]
    },
    {
      "cell_type": "code",
      "source": [
        "sum1 = 0.0\n",
        "for  i , j in zip(ser['salary'] , ser['tenure']) :\n",
        "  if j  < 2.0 : \n",
        "    sum1 = sum1 + i\n",
        "\n",
        "print(sum1)"
      ],
      "metadata": {
        "colab": {
          "base_uri": "https://localhost:8080/"
        },
        "id": "_7euiLHuMDNy",
        "outputId": "69504fa1-296c-42b6-8802-8fffc559c413"
      },
      "execution_count": null,
      "outputs": [
        {
          "output_type": "stream",
          "name": "stdout",
          "text": [
            "96000.0\n"
          ]
        }
      ]
    },
    {
      "cell_type": "code",
      "source": [
        "sum2 = 0.0\n",
        "for  i , j in zip(ser['salary'] , ser['tenure']) :\n",
        "  if j  < 5.0 and j > 2.0 : \n",
        "    sum2 = sum2 + i\n",
        "\n",
        "print(sum2)"
      ],
      "metadata": {
        "colab": {
          "base_uri": "https://localhost:8080/"
        },
        "id": "y9oGLQCbNDWG",
        "outputId": "7aa2b482-3402-4c4e-c0a9-41e88f3195ad"
      },
      "execution_count": null,
      "outputs": [
        {
          "output_type": "stream",
          "name": "stdout",
          "text": [
            "123000.0\n"
          ]
        }
      ]
    },
    {
      "cell_type": "code",
      "source": [
        "sum3 = 0.0\n",
        "for  i , j in zip(ser['salary'] , ser['tenure']) :\n",
        "  if j   > 5.0  : \n",
        "    sum3 = sum3 + i\n",
        "\n",
        "print(sum3)"
      ],
      "metadata": {
        "colab": {
          "base_uri": "https://localhost:8080/"
        },
        "id": "CzNk0bDwNDCf",
        "outputId": "0c4c2013-a5d1-499d-f4f6-751cc0f23d22"
      },
      "execution_count": null,
      "outputs": [
        {
          "output_type": "stream",
          "name": "stdout",
          "text": [
            "475000.0\n"
          ]
        }
      ]
    },
    {
      "cell_type": "code",
      "source": [
        "sum  = sum1 + sum2 + sum3 \n",
        "sum == ser['salary'].sum()"
      ],
      "metadata": {
        "colab": {
          "base_uri": "https://localhost:8080/"
        },
        "id": "ab5iLuTeNUQ_",
        "outputId": "a4ee0841-5f65-45ac-bdde-58f4c5c7ab93"
      },
      "execution_count": null,
      "outputs": [
        {
          "output_type": "execute_result",
          "data": {
            "text/plain": [
              "True"
            ]
          },
          "metadata": {},
          "execution_count": 20
        }
      ]
    },
    {
      "cell_type": "code",
      "source": [
        "del sum "
      ],
      "metadata": {
        "id": "ayQ0l03Wiwuu"
      },
      "execution_count": null,
      "outputs": []
    },
    {
      "cell_type": "code",
      "source": [
        "ser['salary'].sum() , sum "
      ],
      "metadata": {
        "colab": {
          "base_uri": "https://localhost:8080/"
        },
        "id": "gXWJJumLNkFO",
        "outputId": "0e020ce1-055b-478e-b7b8-3c4ee8dd403d"
      },
      "execution_count": null,
      "outputs": [
        {
          "output_type": "execute_result",
          "data": {
            "text/plain": [
              "(694000, <function sum>)"
            ]
          },
          "metadata": {},
          "execution_count": 22
        }
      ]
    },
    {
      "cell_type": "code",
      "source": [
        "for i in range(len(ser)): \n",
        "  if ser.loc[i]['salary']  < 2.0  : \n",
        "    print(ser.loc[i]['salary'])\n"
      ],
      "metadata": {
        "id": "S1NcTrMHEZmp"
      },
      "execution_count": null,
      "outputs": []
    },
    {
      "cell_type": "code",
      "source": [
        "ser['salary'].mean() , ser['tenure'].mean()"
      ],
      "metadata": {
        "colab": {
          "base_uri": "https://localhost:8080/"
        },
        "id": "xEOFU8coD-LK",
        "outputId": "9bf9d828-cf9a-49b8-e4db-a0f32a79dbd3"
      },
      "execution_count": null,
      "outputs": [
        {
          "output_type": "execute_result",
          "data": {
            "text/plain": [
              "(69400.0, 5.61)"
            ]
          },
          "metadata": {},
          "execution_count": 24
        }
      ]
    },
    {
      "cell_type": "code",
      "source": [
        "import matplotlib.pyplot as plt\n",
        "plt.scatter(ser['salary'] , ser['tenure'])  \n",
        "plt.xlabel('salary') \n",
        "plt.ylabel('tenure')  ; \n",
        "\n",
        "\n"
      ],
      "metadata": {
        "colab": {
          "base_uri": "https://localhost:8080/",
          "height": 279
        },
        "id": "V8p0kYBt-cXK",
        "outputId": "a7a050b4-ab74-4ae7-852b-384e26b37b2f"
      },
      "execution_count": null,
      "outputs": [
        {
          "output_type": "display_data",
          "data": {
            "text/plain": [
              "<Figure size 432x288 with 1 Axes>"
            ],
            "image/png": "[encoded data removed]"
          },
          "metadata": {
            "needs_background": "light"
          }
        }
      ]
    },
    {
      "cell_type": "code",
      "source": [
        "interests = [\n",
        "(0, \"Hadoop\"), (0, \"Big Data\"), (0, \"HBase\"), (0, \"Java\"),\n",
        "(0, \"Spark\"), (0, \"Storm\"), (0, \"Cassandra\"),\n",
        "(1, \"NoSQL\"), (1, \"MongoDB\"), (1, \"Cassandra\"), (1, \"HBase\"),\n",
        "(1, \"Postgres\"), (2, \"Python\"), (2, \"scikit-learn\"), (2, \"scipy\"),\n",
        "(2, \"numpy\"), (2, \"statsmodels\"), (2, \"pandas\"), (3, \"R\"), (3, \"Python\"),\n",
        "(3, \"statistics\"), (3, \"regression\"), (3, \"probability\"),\n",
        "(4, \"machine learning\"), (4, \"regression\"), (4, \"decision trees\"),\n",
        "(4, \"libsvm\"), (5, \"Python\"), (5, \"R\"), (5, \"Java\"), (5, \"C++\"),\n",
        "(5, \"Haskell\"), (5, \"programming languages\"), (6, \"statistics\"),\n",
        "(6, \"probability\"), (6, \"mathematics\"), (6, \"theory\"),\n",
        "(7, \"machine learning\"), (7, \"scikit-learn\"), (7, \"Mahout\"),\n",
        "(7, \"neural networks\"), (8, \"neural networks\"), (8, \"deep learning\"),\n",
        "(8, \"Big Data\"), (8, \"artificial intelligence\"), (9, \"Hadoop\"),\n",
        "(9, \"Java\"), (9, \"MapReduce\"), (9, \"Big Data\")\n",
        "]"
      ],
      "metadata": {
        "id": "n4YeLl9lPQpO"
      },
      "execution_count": null,
      "outputs": []
    },
    {
      "cell_type": "code",
      "source": [
        "df = pd.DataFrame(interests)"
      ],
      "metadata": {
        "id": "lOpydPPJPQmu"
      },
      "execution_count": null,
      "outputs": []
    },
    {
      "cell_type": "code",
      "source": [
        "df.columns = ['id' , 'intrest']"
      ],
      "metadata": {
        "id": "83xdzPXMPQiq"
      },
      "execution_count": null,
      "outputs": []
    },
    {
      "cell_type": "code",
      "source": [
        "from collections import Counter"
      ],
      "metadata": {
        "id": "E6Cuh65DS2t2"
      },
      "execution_count": null,
      "outputs": []
    },
    {
      "cell_type": "code",
      "source": [
        "words_and_counts = Counter(word for user, interest in interests for word in interest.lower().split())"
      ],
      "metadata": {
        "id": "BSZOSnVwSqOa"
      },
      "execution_count": null,
      "outputs": []
    },
    {
      "cell_type": "code",
      "source": [
        "for word, count in words_and_counts.most_common():\n",
        "  if count > 1:\n",
        "    print (word, count)"
      ],
      "metadata": {
        "colab": {
          "base_uri": "https://localhost:8080/"
        },
        "id": "Hhg_I2DOTbYS",
        "outputId": "80dd0258-89c3-4913-c842-2c03630486c2"
      },
      "execution_count": null,
      "outputs": [
        {
          "output_type": "stream",
          "name": "stdout",
          "text": [
            "big 3\n",
            "data 3\n",
            "java 3\n",
            "python 3\n",
            "learning 3\n",
            "hadoop 2\n",
            "hbase 2\n",
            "cassandra 2\n",
            "scikit-learn 2\n",
            "r 2\n",
            "statistics 2\n",
            "regression 2\n",
            "probability 2\n",
            "machine 2\n",
            "neural 2\n",
            "networks 2\n"
          ]
        }
      ]
    },
    {
      "cell_type": "code",
      "source": [
        "!pip install iPython"
      ],
      "metadata": {
        "id": "sqF8uddOPQV8",
        "colab": {
          "base_uri": "https://localhost:8080/"
        },
        "outputId": "b8bd439a-487a-49a5-d659-ea0121d14d0b"
      },
      "execution_count": null,
      "outputs": [
        {
          "output_type": "stream",
          "name": "stdout",
          "text": [
            "Looking in indexes: https://pypi.org/simple, https://us-python.pkg.dev/colab-wheels/public/simple/\n",
            "Requirement already satisfied: iPython in /usr/local/lib/python3.7/dist-packages (5.5.0)\n",
            "Requirement already satisfied: traitlets>=4.2 in /usr/local/lib/python3.7/dist-packages (from iPython) (5.1.1)\n",
            "Requirement already satisfied: pygments in /usr/local/lib/python3.7/dist-packages (from iPython) (2.6.1)\n",
            "Requirement already satisfied: setuptools>=18.5 in /usr/local/lib/python3.7/dist-packages (from iPython) (57.4.0)\n",
            "Requirement already satisfied: decorator in /usr/local/lib/python3.7/dist-packages (from iPython) (4.4.2)\n",
            "Requirement already satisfied: simplegeneric>0.8 in /usr/local/lib/python3.7/dist-packages (from iPython) (0.8.1)\n",
            "Requirement already satisfied: pickleshare in /usr/local/lib/python3.7/dist-packages (from iPython) (0.7.5)\n",
            "Requirement already satisfied: prompt-toolkit<2.0.0,>=1.0.4 in /usr/local/lib/python3.7/dist-packages (from iPython) (1.0.18)\n",
            "Requirement already satisfied: pexpect in /usr/local/lib/python3.7/dist-packages (from iPython) (4.8.0)\n",
            "Requirement already satisfied: six>=1.9.0 in /usr/local/lib/python3.7/dist-packages (from prompt-toolkit<2.0.0,>=1.0.4->iPython) (1.15.0)\n",
            "Requirement already satisfied: wcwidth in /usr/local/lib/python3.7/dist-packages (from prompt-toolkit<2.0.0,>=1.0.4->iPython) (0.2.5)\n",
            "Requirement already satisfied: ptyprocess>=0.5 in /usr/local/lib/python3.7/dist-packages (from pexpect->iPython) (0.7.0)\n"
          ]
        }
      ]
    },
    {
      "cell_type": "code",
      "source": [
        "from collections import defaultdict, Counter\n",
        "lookup = defaultdict(int)\n",
        "my_counter = Counter([1,12,2,3,3,3])"
      ],
      "metadata": {
        "id": "jSrp23sxPQTW"
      },
      "execution_count": null,
      "outputs": []
    },
    {
      "cell_type": "code",
      "source": [
        "my_counter"
      ],
      "metadata": {
        "colab": {
          "base_uri": "https://localhost:8080/"
        },
        "id": "K3vtkxMpJqnL",
        "outputId": "dafa6b94-7afe-4cc9-f98c-eeb4b8135307"
      },
      "execution_count": null,
      "outputs": [
        {
          "output_type": "execute_result",
          "data": {
            "text/plain": [
              "Counter({1: 1, 2: 1, 3: 3, 12: 1})"
            ]
          },
          "metadata": {},
          "execution_count": 34
        }
      ]
    },
    {
      "cell_type": "code",
      "source": [
        "ans =  Counter(list('vineetkumarverma'))\n",
        "ans"
      ],
      "metadata": {
        "colab": {
          "base_uri": "https://localhost:8080/"
        },
        "id": "Zuno8zZEJqk6",
        "outputId": "017f5c41-911e-4f50-efb6-96bf749e87a5"
      },
      "execution_count": null,
      "outputs": [
        {
          "output_type": "execute_result",
          "data": {
            "text/plain": [
              "Counter({'a': 2,\n",
              "         'e': 3,\n",
              "         'i': 1,\n",
              "         'k': 1,\n",
              "         'm': 2,\n",
              "         'n': 1,\n",
              "         'r': 2,\n",
              "         't': 1,\n",
              "         'u': 1,\n",
              "         'v': 2})"
            ]
          },
          "metadata": {},
          "execution_count": 35
        }
      ]
    },
    {
      "cell_type": "code",
      "source": [
        "even_numbers = [ i for  i in range(10) if i %2 == 0]"
      ],
      "metadata": {
        "id": "hii-KL-TPkZt"
      },
      "execution_count": null,
      "outputs": []
    },
    {
      "cell_type": "code",
      "source": [
        "zeroes = [0 for _ in even_numbers] \n",
        "zeroes"
      ],
      "metadata": {
        "colab": {
          "base_uri": "https://localhost:8080/"
        },
        "id": "f5rviwtcJqcv",
        "outputId": "8305c396-b28f-4fad-abdc-19221b5f494b"
      },
      "execution_count": null,
      "outputs": [
        {
          "output_type": "execute_result",
          "data": {
            "text/plain": [
              "[0, 0, 0, 0, 0]"
            ]
          },
          "metadata": {},
          "execution_count": 37
        }
      ]
    },
    {
      "cell_type": "code",
      "source": [
        "increasing_pairs = [(x, y) # only pairs with x < y,\n",
        "for x in range(10) # range(lo, hi) equals\n",
        "for y in range(x + 1, 10)]"
      ],
      "metadata": {
        "id": "7AOJFyKSJqag"
      },
      "execution_count": null,
      "outputs": []
    },
    {
      "cell_type": "code",
      "source": [
        "pairs = [(x ,  y) for  x in range(10) for  y  in range(x+1 , 10)]"
      ],
      "metadata": {
        "id": "vbx3jnFQJqYJ"
      },
      "execution_count": null,
      "outputs": []
    },
    {
      "cell_type": "code",
      "source": [
        "def lazy_range(n):\n",
        "  i = 0\n",
        "  while i < n:\n",
        "    yield i\n",
        "    i += 1"
      ],
      "metadata": {
        "id": "cdpGEfkgQwu2"
      },
      "execution_count": null,
      "outputs": []
    },
    {
      "cell_type": "code",
      "source": [
        "lazy_evens_below_20 = (i for i in lazy_range(20) if i % 2 == 0)"
      ],
      "metadata": {
        "id": "4f7puD3uJqVu"
      },
      "execution_count": null,
      "outputs": []
    },
    {
      "cell_type": "code",
      "source": [
        "for  i in lazy_evens_below_20 : \n",
        "  print(i)"
      ],
      "metadata": {
        "colab": {
          "base_uri": "https://localhost:8080/"
        },
        "id": "j7ZxMRQdP7kk",
        "outputId": "bdefe4f0-fae7-44c6-e44e-9f304e3b5986"
      },
      "execution_count": null,
      "outputs": [
        {
          "output_type": "stream",
          "name": "stdout",
          "text": [
            "0\n",
            "2\n",
            "4\n",
            "6\n",
            "8\n",
            "10\n",
            "12\n",
            "14\n",
            "16\n",
            "18\n"
          ]
        }
      ]
    },
    {
      "cell_type": "code",
      "source": [
        "import matplotlib.pyplot as plt\n"
      ],
      "metadata": {
        "id": "UWz8GGhsR-As"
      },
      "execution_count": null,
      "outputs": []
    },
    {
      "cell_type": "code",
      "source": [
        "import random  \n",
        "\n",
        "a = [random.random() for  _ in range(10)]"
      ],
      "metadata": {
        "id": "dw0Pk5bqP7iI"
      },
      "execution_count": null,
      "outputs": []
    },
    {
      "cell_type": "code",
      "source": [
        "#random.seed(100)\n",
        "ff = random.randrange(10) \n",
        "cc =  random.randrange(2,   9)\n",
        "\n",
        "cc , ff"
      ],
      "metadata": {
        "colab": {
          "base_uri": "https://localhost:8080/"
        },
        "id": "cAfUrNolSNI8",
        "outputId": "bdcb1094-8de3-4073-eef2-aa2f902091dc"
      },
      "execution_count": null,
      "outputs": [
        {
          "output_type": "execute_result",
          "data": {
            "text/plain": [
              "(8, 7)"
            ]
          },
          "metadata": {},
          "execution_count": 45
        }
      ]
    },
    {
      "cell_type": "code",
      "source": [
        "plt.plot(a)"
      ],
      "metadata": {
        "colab": {
          "base_uri": "https://localhost:8080/",
          "height": 283
        },
        "id": "044eoyaxP7f1",
        "outputId": "97df0cea-7604-4049-c127-271e87913b4a"
      },
      "execution_count": null,
      "outputs": [
        {
          "output_type": "execute_result",
          "data": {
            "text/plain": [
              "[<matplotlib.lines.Line2D at 0x7f20af164110>]"
            ]
          },
          "metadata": {},
          "execution_count": 46
        },
        {
          "output_type": "display_data",
          "data": {
            "text/plain": [
              "<Figure size 432x288 with 1 Axes>"
            ],
            "image/png": "[encoded data removed]"
          },
          "metadata": {
            "needs_background": "light"
          }
        }
      ]
    },
    {
      "cell_type": "markdown",
      "source": [
        "#some other section "
      ],
      "metadata": {
        "id": "ztOCc0IuTFxQ"
      }
    },
    {
      "cell_type": "code",
      "source": [
        "import  re\n",
        "re.sub(\"[0-9]\", \"-\", \"R2D2\")"
      ],
      "metadata": {
        "colab": {
          "base_uri": "https://localhost:8080/",
          "height": 35
        },
        "id": "_TMXycoRP7dk",
        "outputId": "fb637d83-e694-41a7-da27-b873032ae412"
      },
      "execution_count": null,
      "outputs": [
        {
          "output_type": "execute_result",
          "data": {
            "text/plain": [
              "'R-D-'"
            ],
            "application/vnd.google.colaboratory.intrinsic+json": {
              "type": "string"
            }
          },
          "metadata": {},
          "execution_count": 47
        }
      ]
    },
    {
      "cell_type": "code",
      "source": [
        "re.split('[ab]' , 'cranbs')"
      ],
      "metadata": {
        "colab": {
          "base_uri": "https://localhost:8080/"
        },
        "id": "Gvb4HWYfP7bE",
        "outputId": "55a0d771-9c5e-4de2-a5df-6399095400f9"
      },
      "execution_count": null,
      "outputs": [
        {
          "output_type": "execute_result",
          "data": {
            "text/plain": [
              "['cr', 'n', 's']"
            ]
          },
          "metadata": {},
          "execution_count": 48
        }
      ]
    },
    {
      "cell_type": "code",
      "source": [
        "not re.search('a' , 'mangoes')\n",
        " "
      ],
      "metadata": {
        "colab": {
          "base_uri": "https://localhost:8080/"
        },
        "id": "fLjMgli7P7Yt",
        "outputId": "d256f747-cdd5-4571-a98c-6dfe0858ca54"
      },
      "execution_count": null,
      "outputs": [
        {
          "output_type": "execute_result",
          "data": {
            "text/plain": [
              "False"
            ]
          },
          "metadata": {},
          "execution_count": 49
        }
      ]
    },
    {
      "cell_type": "code",
      "source": [
        "class Student : \n",
        "  def __init__(self   , name = \"No name given\" ) :\n",
        "    self.name  = name  \n",
        "\n",
        "  def tell_name(self) : \n",
        "    return print( 'my name is   : ' + str(self.name))\n",
        "\n"
      ],
      "metadata": {
        "id": "NV1qMfUtP7WS"
      },
      "execution_count": null,
      "outputs": []
    },
    {
      "cell_type": "code",
      "source": [
        "s1 = Student('vineet') \n",
        "s1.tell_name()"
      ],
      "metadata": {
        "colab": {
          "base_uri": "https://localhost:8080/"
        },
        "id": "M7ZvP3YkP7UA",
        "outputId": "399fccfe-9e69-4117-bae7-409e08091530"
      },
      "execution_count": null,
      "outputs": [
        {
          "output_type": "stream",
          "name": "stdout",
          "text": [
            "my name is   : vineet\n"
          ]
        }
      ]
    },
    {
      "cell_type": "code",
      "source": [
        "class Student1(Student) : \n",
        "\n",
        "  def __init__(self , name ,age , id) : \n",
        "    self.age = age \n",
        "    self.id = id\n",
        "    Student.__init__(self , name)\n",
        "\n",
        "\n",
        "  def print_all(self) : \n",
        "    print('my name is  : {}  and  age is :   {} and id  is  : {}  '.format(self.name , self.age , self.id )) \n",
        "     \n"
      ],
      "metadata": {
        "id": "iEwVNatDfAGN"
      },
      "execution_count": null,
      "outputs": []
    },
    {
      "cell_type": "code",
      "source": [
        "ss = Student1('vineet' , 23 , 'AB12')\n",
        "ss.print_all()"
      ],
      "metadata": {
        "colab": {
          "base_uri": "https://localhost:8080/"
        },
        "id": "YsGo75jAfrC9",
        "outputId": "deab1633-9c89-4770-8665-389784267e7b"
      },
      "execution_count": null,
      "outputs": [
        {
          "output_type": "stream",
          "name": "stdout",
          "text": [
            "my name is  : vineet  and  age is :   23 and id  is  : AB12  \n"
          ]
        }
      ]
    },
    {
      "cell_type": "code",
      "source": [
        "lis = [10 , 30 , 45 , 5 ,  9 ]"
      ],
      "metadata": {
        "id": "x7cnAn6ReVwR"
      },
      "execution_count": null,
      "outputs": []
    },
    {
      "cell_type": "code",
      "source": [
        "ans  =  sum([ i for  i in lis]) \n",
        "print(ans)"
      ],
      "metadata": {
        "colab": {
          "base_uri": "https://localhost:8080/"
        },
        "id": "qa6g2_DEeVtl",
        "outputId": "b1f3be76-a0f7-4b0b-af45-84ed04b11793"
      },
      "execution_count": null,
      "outputs": [
        {
          "output_type": "stream",
          "name": "stdout",
          "text": [
            "99\n"
          ]
        }
      ]
    },
    {
      "cell_type": "code",
      "source": [
        "def mult(x , y ) :\n",
        "  return x* y \n",
        "  "
      ],
      "metadata": {
        "id": "Ih6WAJ2CeVoO"
      },
      "execution_count": null,
      "outputs": []
    },
    {
      "cell_type": "code",
      "source": [
        "a = [23,54 ] \n",
        "b  = [90 , 10] \n",
        "\n",
        "res =list( map(mult  ,[10 , 20] ,  [10 , 90] ))\n",
        "print(res)"
      ],
      "metadata": {
        "colab": {
          "base_uri": "https://localhost:8080/"
        },
        "id": "1lu4ajEreVl1",
        "outputId": "43f7242b-08ec-440a-cb8a-cdeb32336cc4"
      },
      "execution_count": null,
      "outputs": [
        {
          "output_type": "stream",
          "name": "stdout",
          "text": [
            "[100, 1800]\n"
          ]
        }
      ]
    },
    {
      "cell_type": "code",
      "source": [
        "a = [ i for i in  range(10) ]\n",
        "b = [ i**2 for  i in a ] \n",
        "\n",
        "pairs  = zip(a , b ) \n",
        "for i  in pairs  : \n",
        "  print(i)"
      ],
      "metadata": {
        "colab": {
          "base_uri": "https://localhost:8080/"
        },
        "id": "Wt9Ugd5hkxkw",
        "outputId": "983e22e1-9621-4bd6-8fad-074ba527fc0a"
      },
      "execution_count": null,
      "outputs": [
        {
          "output_type": "stream",
          "name": "stdout",
          "text": [
            "(0, 0)\n",
            "(1, 1)\n",
            "(2, 4)\n",
            "(3, 9)\n",
            "(4, 16)\n",
            "(5, 25)\n",
            "(6, 36)\n",
            "(7, 49)\n",
            "(8, 64)\n",
            "(9, 81)\n"
          ]
        }
      ]
    },
    {
      "cell_type": "code",
      "source": [
        "pairs = [('a', 1), ('b', 2), ('c', 3)]\n",
        "letters, numbers = zip(*pairs)"
      ],
      "metadata": {
        "id": "3nSLhvxkmCCA"
      },
      "execution_count": null,
      "outputs": []
    },
    {
      "cell_type": "code",
      "source": [
        "letters  , numbers"
      ],
      "metadata": {
        "colab": {
          "base_uri": "https://localhost:8080/"
        },
        "id": "Q4iFZJIrkZEV",
        "outputId": "409b1c62-2284-489f-c50c-bb4b14b89acf"
      },
      "execution_count": null,
      "outputs": [
        {
          "output_type": "execute_result",
          "data": {
            "text/plain": [
              "(('a', 'b', 'c'), (1, 2, 3))"
            ]
          },
          "metadata": {},
          "execution_count": 60
        }
      ]
    },
    {
      "cell_type": "code",
      "source": [
        "import matplotlib.pyplot as plt  "
      ],
      "metadata": {
        "id": "J0WSPYExkZBw"
      },
      "execution_count": null,
      "outputs": []
    },
    {
      "cell_type": "code",
      "source": [
        "years = [1950, 1960, 1970, 1980, 1990, 2000, 2010]\n",
        "gdp = [300.2, 543.3, 1075.9, 2862.5, 5979.6, 10289.7, 14958.3]"
      ],
      "metadata": {
        "id": "fYLkqBmykY_E"
      },
      "execution_count": null,
      "outputs": []
    },
    {
      "cell_type": "code",
      "source": [
        "plt.plot(years ,  gdp , color = 'g' , marker = 'o' , linestyle=  'solid' )\n",
        "plt.title('some-graph') \n",
        "plt.ylabel('gdp') \n",
        "plt.show()"
      ],
      "metadata": {
        "colab": {
          "base_uri": "https://localhost:8080/",
          "height": 281
        },
        "id": "RI5mvVwlkY8g",
        "outputId": "1e922609-188c-4571-a64d-312b4efec5a0"
      },
      "execution_count": null,
      "outputs": [
        {
          "output_type": "display_data",
          "data": {
            "text/plain": [
              "<Figure size 432x288 with 1 Axes>"
            ],
            "image/png": "[encoded data removed]"
          },
          "metadata": {
            "needs_background": "light"
          }
        }
      ]
    },
    {
      "cell_type": "code",
      "source": [
        "movies = [\"Annie Hall\", \"Ben-Hur\", \"Casablanca\", \"Gandhi\", \"West Side Story\"]\n",
        "num_oscars = [5, 11, 3, 8, 10]"
      ],
      "metadata": {
        "id": "nXZUqeD1kY55"
      },
      "execution_count": null,
      "outputs": []
    },
    {
      "cell_type": "code",
      "source": [
        "xs = [ i  + 0.1 for  i  , _ in enumerate(movies)] "
      ],
      "metadata": {
        "id": "r8I7_zxYkYz-"
      },
      "execution_count": null,
      "outputs": []
    },
    {
      "cell_type": "code",
      "source": [
        "plt.bar(xs , num_oscars)  \n",
        "plt.ylabel('num_oscar') \n",
        "plt.title('some thing') \n",
        "plt.xticks([i  +  0.2 for i, _ in enumerate(movies)], movies)   \n",
        "plt.show()\n",
        "\n"
      ],
      "metadata": {
        "colab": {
          "base_uri": "https://localhost:8080/",
          "height": 281
        },
        "id": "9J3Apx-KkYxT",
        "outputId": "444ccf0a-932d-453c-853f-4e29c5e543b8"
      },
      "execution_count": null,
      "outputs": [
        {
          "output_type": "display_data",
          "data": {
            "text/plain": [
              "<Figure size 432x288 with 1 Axes>"
            ],
            "image/png": "[encoded data removed]"
          },
          "metadata": {
            "needs_background": "light"
          }
        }
      ]
    },
    {
      "cell_type": "code",
      "source": [
        "grades = [83,95,91,87,70,0,85,82,100,67,73,77,0] \n",
        "decile = lambda grade  : grade //10 * 10 \n",
        "histogram = Counter(decile(grade) for grade  in grades) \n",
        "plt.bar([x - 4 for  x  in histogram.keys()] ,  histogram.values() , 8 ) \n",
        "plt.axis([-5,  105 ,  0 , 5]) \n",
        "plt.xticks([10 * i for i in range(11)])\n",
        "plt.xlabel(\"Decile\") \n",
        "plt.ylabel('# of Students') \n",
        "plt.title(\"Dist of Exam 1 Grades\")  ; \n",
        "\n"
      ],
      "metadata": {
        "colab": {
          "base_uri": "https://localhost:8080/",
          "height": 295
        },
        "id": "-jFAEK9FkYr8",
        "outputId": "a6dea490-56ef-47ba-e3e5-050547f2d9e1"
      },
      "execution_count": null,
      "outputs": [
        {
          "output_type": "display_data",
          "data": {
            "text/plain": [
              "<Figure size 432x288 with 1 Axes>"
            ],
            "image/png": "[encoded data removed]"
          },
          "metadata": {
            "needs_background": "light"
          }
        }
      ]
    },
    {
      "cell_type": "code",
      "source": [
        "mentions = [500, 505]\n",
        "years = [2013, 2014]"
      ],
      "metadata": {
        "id": "HykinU-_kYpg"
      },
      "execution_count": null,
      "outputs": []
    },
    {
      "cell_type": "code",
      "source": [
        "plt.bar(years , mentions ,  0.8) \n",
        "plt.xlabel('mention') \n",
        "plt.xticks(years) \n",
        "\n",
        "plt.ylabel('years') \n",
        "plt.axis([2012.5 , 2014.5 , 0 , 550]) ; "
      ],
      "metadata": {
        "colab": {
          "base_uri": "https://localhost:8080/",
          "height": 279
        },
        "id": "Ix4UhhbxIZK0",
        "outputId": "c90f6c93-bd53-4616-cb3d-b5551b65451f"
      },
      "execution_count": null,
      "outputs": [
        {
          "output_type": "display_data",
          "data": {
            "text/plain": [
              "<Figure size 432x288 with 1 Axes>"
            ],
            "image/png": "[encoded data removed]"
          },
          "metadata": {
            "needs_background": "light"
          }
        }
      ]
    },
    {
      "cell_type": "code",
      "source": [
        "plt.bar([2012.6  , 2013.6] ,  mentions , 0.8)  \n",
        "plt.xticks(years)\n",
        "plt.ylabel('mentions') \n",
        "plt.xlabel('years')       #bad matplotlib\n",
        "plt.title('some_plot')\n",
        "plt.axis([2012.5 , 2014.5 , 499 , 506])\n",
        "plt.show()"
      ],
      "metadata": {
        "colab": {
          "base_uri": "https://localhost:8080/",
          "height": 295
        },
        "id": "Z2xSt0g2kYmp",
        "outputId": "b79f6222-68ae-4bc5-af56-7a804a2163e6"
      },
      "execution_count": null,
      "outputs": [
        {
          "output_type": "display_data",
          "data": {
            "text/plain": [
              "<Figure size 432x288 with 1 Axes>"
            ],
            "image/png": "[encoded data removed]"
          },
          "metadata": {
            "needs_background": "light"
          }
        }
      ]
    },
    {
      "cell_type": "markdown",
      "source": [
        "#Line Chart"
      ],
      "metadata": {
        "id": "P4L99mGrK1lC"
      }
    },
    {
      "cell_type": "code",
      "source": [
        "variance = [1, 2, 4, 8, 16, 32, 64, 128, 256]\n",
        "bias_squared = [256, 128, 64, 32, 16, 8, 4, 2, 1] \n",
        "total_error  = [ x +  y for x, y in zip(variance ,  bias_squared)] \n",
        "xs = [i  for   i  , _ in enumerate(variance)] \n",
        "plt.plot(xs , variance , 'g-' , label =  'variance') \n",
        "plt.plot(xs , bias_squared  ,  'r-' , label = 'bias^2') \n",
        "plt.plot(xs , total_error , 'b:' , label = 'total error') \n",
        "plt.legend(loc = 'best') \n",
        "plt.xlabel(\"model complexity\") \n",
        "plt.title('The bias variance tradeoff')  \n",
        "plt.show() ; "
      ],
      "metadata": {
        "colab": {
          "base_uri": "https://localhost:8080/",
          "height": 295
        },
        "id": "lqrfD94AK_nC",
        "outputId": "05e2d905-613c-4e4d-f981-6813c31db8e3"
      },
      "execution_count": null,
      "outputs": [
        {
          "output_type": "display_data",
          "data": {
            "text/plain": [
              "<Figure size 432x288 with 1 Axes>"
            ],
            "image/png": "[encoded data removed]"
          },
          "metadata": {
            "needs_background": "light"
          }
        }
      ]
    },
    {
      "cell_type": "code",
      "source": [
        "import numpy as np \n",
        "import matplotlib.pyplot as plt \n"
      ],
      "metadata": {
        "id": "W856RYYBHvKu"
      },
      "execution_count": null,
      "outputs": []
    },
    {
      "cell_type": "markdown",
      "source": [
        "#Scatter plot "
      ],
      "metadata": {
        "id": "ksWhGDROMb6f"
      }
    },
    {
      "cell_type": "code",
      "source": [
        "friends = [ 70, 65, 72, 63, 71, 64, 60, 64, 67]\n",
        "minutes = [175, 170, 205, 120, 220, 130, 105, 145, 190]\n",
        "labels = ['a', 'b', 'c', 'd', 'e', 'f', 'g', 'h', 'i']"
      ],
      "metadata": {
        "id": "Ut9T__S0kYkG"
      },
      "execution_count": null,
      "outputs": []
    },
    {
      "cell_type": "code",
      "source": [
        "plt.scatter(friends , minutes) \n",
        "for  label,  friend_count  ,minutes_count  in zip(labels , friends ,  minutes)  :\n",
        "  plt.annotate(label , xy = (friend_count  ,minutes_count) , \n",
        "               xytext = (5  , -5) ,  \n",
        "               textcoords =  'offset points' ) \n",
        "\n",
        "\n",
        "plt.title(\"Daily Minutes vs. Number of Friends\")\n",
        "plt.xlabel(\"# of friends\")\n",
        "plt.ylabel(\"daily minutes spent on the site\")\n",
        "plt.axis('equal')\n",
        "plt.show()"
      ],
      "metadata": {
        "colab": {
          "base_uri": "https://localhost:8080/",
          "height": 295
        },
        "id": "AkXlqyzOMqy-",
        "outputId": "b9e4fe3b-35c3-4481-d7b0-1cd4d7712b7f"
      },
      "execution_count": null,
      "outputs": [
        {
          "output_type": "display_data",
          "data": {
            "text/plain": [
              "<Figure size 432x288 with 1 Axes>"
            ],
            "image/png": "[encoded data removed]"
          },
          "metadata": {
            "needs_background": "light"
          }
        }
      ]
    },
    {
      "cell_type": "code",
      "source": [
        "test_1_grades = [ 99, 90, 85, 97, 80]\n",
        "test_2_grades = [100, 85, 60, 90, 70] "
      ],
      "metadata": {
        "id": "U47b92AykYea"
      },
      "execution_count": null,
      "outputs": []
    },
    {
      "cell_type": "code",
      "source": [
        "plt.scatter(test_1_grades , test_2_grades) \n",
        "plt.xlabel('test1') \n",
        "plt.ylabel('test2')\n",
        "plt.axis('equal')\n",
        "plt.show()"
      ],
      "metadata": {
        "colab": {
          "base_uri": "https://localhost:8080/",
          "height": 279
        },
        "id": "E3P9rVxRkYbY",
        "outputId": "7e31b64e-87f6-477e-eb34-498a6452582d"
      },
      "execution_count": null,
      "outputs": [
        {
          "output_type": "display_data",
          "data": {
            "text/plain": [
              "<Figure size 432x288 with 1 Axes>"
            ],
            "image/png": "[encoded data removed]"
          },
          "metadata": {
            "needs_background": "light"
          }
        }
      ]
    },
    {
      "cell_type": "code",
      "source": [
        "import gc \n",
        "gc.collect()"
      ],
      "metadata": {
        "colab": {
          "base_uri": "https://localhost:8080/"
        },
        "id": "JQEq8iwOOCZc",
        "outputId": "daeff13a-6eab-46ed-a775-42c797eb0fa0"
      },
      "execution_count": null,
      "outputs": [
        {
          "output_type": "execute_result",
          "data": {
            "text/plain": [
              "2667"
            ]
          },
          "metadata": {},
          "execution_count": 77
        }
      ]
    },
    {
      "cell_type": "markdown",
      "source": [
        "#Vector  "
      ],
      "metadata": {
        "id": "f0egE3B_F3cU"
      }
    },
    {
      "cell_type": "code",
      "source": [
        "from numpy import array"
      ],
      "metadata": {
        "id": "Fx3K-ps5OCW5"
      },
      "execution_count": null,
      "outputs": []
    },
    {
      "cell_type": "code",
      "source": [
        "vec = array([1,2 ,3,4]) \n",
        "vec\n"
      ],
      "metadata": {
        "colab": {
          "base_uri": "https://localhost:8080/"
        },
        "id": "2MFLP4nQOCT6",
        "outputId": "d3b8d44b-9a37-4f20-8967-9c8736ea73a9"
      },
      "execution_count": null,
      "outputs": [
        {
          "output_type": "execute_result",
          "data": {
            "text/plain": [
              "array([1, 2, 3, 4])"
            ]
          },
          "metadata": {},
          "execution_count": 79
        }
      ]
    },
    {
      "cell_type": "code",
      "source": [
        "x = array([10  ,  20 , 30 ]) \n",
        "y = array([20 , 30  ,60])"
      ],
      "metadata": {
        "id": "CBsUuodDOCQs"
      },
      "execution_count": null,
      "outputs": []
    },
    {
      "cell_type": "code",
      "source": [
        "x + y "
      ],
      "metadata": {
        "colab": {
          "base_uri": "https://localhost:8080/"
        },
        "id": "iJhgdHvZOCNp",
        "outputId": "d0896bb9-2aab-4c5d-8019-b731732e2e3c"
      },
      "execution_count": null,
      "outputs": [
        {
          "output_type": "execute_result",
          "data": {
            "text/plain": [
              "array([30, 50, 90])"
            ]
          },
          "metadata": {},
          "execution_count": 81
        }
      ]
    },
    {
      "cell_type": "code",
      "source": [
        "x*y ,  x/y "
      ],
      "metadata": {
        "colab": {
          "base_uri": "https://localhost:8080/"
        },
        "id": "F0aEG6gsOCKx",
        "outputId": "0f7f3053-a291-4281-9333-27678e3c535c"
      },
      "execution_count": null,
      "outputs": [
        {
          "output_type": "execute_result",
          "data": {
            "text/plain": [
              "(array([ 200,  600, 1800]), array([0.5       , 0.66666667, 0.5       ]))"
            ]
          },
          "metadata": {},
          "execution_count": 82
        }
      ]
    },
    {
      "cell_type": "code",
      "source": [
        "z = x.dot(y) \n",
        "z"
      ],
      "metadata": {
        "colab": {
          "base_uri": "https://localhost:8080/"
        },
        "id": "LXEPXXNxGTbF",
        "outputId": "6f27bbe9-a6d8-4631-9e75-f99fee783996"
      },
      "execution_count": null,
      "outputs": [
        {
          "output_type": "execute_result",
          "data": {
            "text/plain": [
              "2600"
            ]
          },
          "metadata": {},
          "execution_count": 83
        }
      ]
    },
    {
      "cell_type": "code",
      "source": [
        "import numpy as np \n"
      ],
      "metadata": {
        "id": "M1OsH6F3GqD9"
      },
      "execution_count": null,
      "outputs": []
    },
    {
      "cell_type": "code",
      "source": [
        "c = np.cross(x , y) \n",
        "c"
      ],
      "metadata": {
        "colab": {
          "base_uri": "https://localhost:8080/"
        },
        "id": "VWz88Hu0GYZz",
        "outputId": "02e7526c-a80b-4362-b93c-c0f3e1cb8cb8"
      },
      "execution_count": null,
      "outputs": [
        {
          "output_type": "execute_result",
          "data": {
            "text/plain": [
              "array([ 300,    0, -100])"
            ]
          },
          "metadata": {},
          "execution_count": 85
        }
      ]
    },
    {
      "cell_type": "code",
      "source": [
        "c.dot(x) , c.dot(y)"
      ],
      "metadata": {
        "colab": {
          "base_uri": "https://localhost:8080/"
        },
        "id": "kah2804FGYV6",
        "outputId": "6cde5222-bba5-457f-90ca-3e4f010cfd9d"
      },
      "execution_count": null,
      "outputs": [
        {
          "output_type": "execute_result",
          "data": {
            "text/plain": [
              "(0, 0)"
            ]
          },
          "metadata": {},
          "execution_count": 86
        }
      ]
    },
    {
      "cell_type": "code",
      "source": [
        "c= c*2.0 \n",
        "c"
      ],
      "metadata": {
        "colab": {
          "base_uri": "https://localhost:8080/"
        },
        "id": "2lJ8NKqGGYSn",
        "outputId": "6c336255-2e61-4e6f-f870-d983de534ad1"
      },
      "execution_count": null,
      "outputs": [
        {
          "output_type": "execute_result",
          "data": {
            "text/plain": [
              "array([ 600.,    0., -200.])"
            ]
          },
          "metadata": {},
          "execution_count": 87
        }
      ]
    },
    {
      "cell_type": "code",
      "source": [
        "vec1 = np.array([10 ,40 ,90,  89]) \n",
        "unit_vec1  =vec1  / np.linalg.norm(vec1) \n",
        "unit_vec1"
      ],
      "metadata": {
        "colab": {
          "base_uri": "https://localhost:8080/"
        },
        "id": "Mti898ymHQgV",
        "outputId": "4ec9e670-94d6-47ee-eb39-9cbedd6c936e"
      },
      "execution_count": null,
      "outputs": [
        {
          "output_type": "execute_result",
          "data": {
            "text/plain": [
              "array([0.07512005, 0.30048021, 0.67608048, 0.66856847])"
            ]
          },
          "metadata": {},
          "execution_count": 88
        }
      ]
    },
    {
      "cell_type": "code",
      "source": [
        "\n",
        "plt.rcParams[\"figure.figsize\"] = [7.00, 3.50]\n",
        "plt.rcParams[\"figure.autolayout\"] = True\n",
        "\n",
        "\n",
        "data = np.array([[2, 1], [-1, 2], [4, -1]])\n",
        "\n",
        "\n",
        "origin = np.array([[0, 0, 0], [0, 0, 0]])\n",
        "\n",
        "\n",
        "plt.quiver(*origin, data[:, 0], data[:, 1], color=['black', 'red', 'green'], scale=15)\n",
        "plt.show()"
      ],
      "metadata": {
        "colab": {
          "base_uri": "https://localhost:8080/",
          "height": 54
        },
        "id": "CCYsEZrfGYIT",
        "outputId": "258a0e6a-16ff-4e01-b760-fb71adfc0aec"
      },
      "execution_count": null,
      "outputs": [
        {
          "output_type": "display_data",
          "data": {
            "text/plain": [
              "<Figure size 504x252 with 1 Axes>"
            ],
            "image/png": "[encoded data removed]"
          },
          "metadata": {
            "needs_background": "light"
          }
        }
      ]
    },
    {
      "cell_type": "code",
      "source": [
        "X = [0] \n",
        "Y = [0]  \n",
        "U = [2] \n",
        "V = [1]\n",
        "\n",
        "X , Y , U   , V = np.array([X , Y , U , V])\n",
        "\n",
        "D = U + 2\n",
        "C = V + 2 \n",
        "plt.quiver(X , Y ,U ,V , color= 'b' , units = 'xy' , scale = 1) \n",
        "plt.quiver(X , Y ,D  , C  , color= 'r' , units = 'xy' , scale = 1) \n",
        "plt.quiver(X , Y , U+D , C + V , color= 'g' , units = 'xy' , scale = 1) \n",
        "plt.title('some vector') \n",
        "\n",
        "plt.xlim(-2,  5 ) \n",
        "plt.ylim(-2 , 10 ) \n",
        "plt.grid()\n",
        "plt.show() "
      ],
      "metadata": {
        "colab": {
          "base_uri": "https://localhost:8080/",
          "height": 54
        },
        "id": "K9ecapxXHrKw",
        "outputId": "33356bfb-b78a-4ec0-9779-529720f62e4e"
      },
      "execution_count": null,
      "outputs": [
        {
          "output_type": "display_data",
          "data": {
            "text/plain": [
              "<Figure size 504x252 with 1 Axes>"
            ],
            "image/png": "[encoded data removed]"
          },
          "metadata": {
            "needs_background": "light"
          }
        }
      ]
    },
    {
      "cell_type": "code",
      "source": [
        "# Import libraries\n",
        "import numpy as np\n",
        "import matplotlib.pyplot as plt\n",
        "  \n",
        "# Vector origin location\n",
        "X = [0]\n",
        "Y = [0]\n",
        "  \n",
        "# Directional vectors\n",
        "U = [2]  \n",
        "V = [1]  \n",
        "  \n",
        "# Creating plot\n",
        "plt.quiver(X, Y, U, V, color='b', units='xy', scale=1)\n",
        "plt.title('Single Vector')\n",
        "  \n",
        "# x-lim and y-lim\n",
        "plt.xlim(-2, 5)\n",
        "plt.ylim(-2, 2.5)\n",
        "  \n",
        "# Show plot with grid\n",
        "plt.grid()\n",
        "plt.show()"
      ],
      "metadata": {
        "colab": {
          "base_uri": "https://localhost:8080/",
          "height": 261
        },
        "id": "Ak3nBIYmGYEw",
        "outputId": "d442cf2e-b0d2-4c6b-b74e-4f669445ec0b"
      },
      "execution_count": null,
      "outputs": [
        {
          "output_type": "display_data",
          "data": {
            "text/plain": [
              "<Figure size 504x252 with 1 Axes>"
            ],
            "image/png": "[encoded data removed]"
          },
          "metadata": {
            "needs_background": "light"
          }
        }
      ]
    },
    {
      "cell_type": "code",
      "source": [
        "# Import required modules\n",
        "import numpy as np\n",
        "import matplotlib.pyplot as plt\n",
        "\n",
        "# Meshgrid\n",
        "x, y = np.meshgrid(np.linspace(-5, 5, 10),\n",
        "\t\t\t\tnp.linspace(-5, 5, 10))\n",
        "\n",
        "# Directional vectors\n",
        "u = -y/np.sqrt(x**2 + y**2)\n",
        "#u = -y/np.linalg.norm([x,  y])\n",
        "v = x/(x**2 + y**2)\n",
        "\n",
        "# Plotting Vector Field with QUIVER\n",
        "plt.quiver(x, y, u, v, color='g')\n",
        "plt.title('Vector Field')\n",
        "\n",
        "# Setting x, y boundary limits\n",
        "plt.xlim(-7, 7)\n",
        "plt.ylim(-7, 7)\n",
        "\n",
        "# Show plot with grid\n",
        "plt.grid()\n",
        "plt.show()\n"
      ],
      "metadata": {
        "colab": {
          "base_uri": "https://localhost:8080/",
          "height": 261
        },
        "id": "WeY6M6PBGYBg",
        "outputId": "c6b77d4e-8d4c-4744-90f9-389ed2e2645c"
      },
      "execution_count": null,
      "outputs": [
        {
          "output_type": "display_data",
          "data": {
            "text/plain": [
              "<Figure size 504x252 with 1 Axes>"
            ],
            "image/png": "[encoded data removed]"
          },
          "metadata": {
            "needs_background": "light"
          }
        }
      ]
    },
    {
      "cell_type": "code",
      "source": [
        "def quantile(x,  p ) :\n",
        "  p_index =  int(len(x) *  p) \n",
        "  return sorted(x)[p_index] \n"
      ],
      "metadata": {
        "id": "UuDtZDgaHclw"
      },
      "execution_count": null,
      "outputs": []
    },
    {
      "cell_type": "code",
      "source": [
        "ans  = np.random.random_sample(size = 10) \n",
        "ans "
      ],
      "metadata": {
        "colab": {
          "base_uri": "https://localhost:8080/"
        },
        "id": "4bybLZS3KurQ",
        "outputId": "c48a4bdf-b1cc-4fc3-e4f8-69e1cc8b3117"
      },
      "execution_count": null,
      "outputs": [
        {
          "output_type": "execute_result",
          "data": {
            "text/plain": [
              "array([0.04667368, 0.21036289, 0.01564823, 0.69089599, 0.58016263,\n",
              "       0.05941613, 0.83360308, 0.68218449, 0.99715733, 0.13840078])"
            ]
          },
          "metadata": {},
          "execution_count": 94
        }
      ]
    },
    {
      "cell_type": "code",
      "source": [
        "ans1 =  np.random.randint(low= 0 , high =100  ,size  =10) \n",
        "ans1 "
      ],
      "metadata": {
        "colab": {
          "base_uri": "https://localhost:8080/"
        },
        "id": "lcMS9tohKuoZ",
        "outputId": "74c22ce6-b57f-4dba-f042-516fc3c801b4"
      },
      "execution_count": null,
      "outputs": [
        {
          "output_type": "execute_result",
          "data": {
            "text/plain": [
              "array([92,  5, 96,  0, 53, 53, 63,  1, 49,  9])"
            ]
          },
          "metadata": {},
          "execution_count": 95
        }
      ]
    },
    {
      "cell_type": "code",
      "source": [
        "random.seed(40)\n",
        "num_friends = np.random.randint(low = 20 , high = 100 ,  size = 40)"
      ],
      "metadata": {
        "id": "5HTbxpa4Kulv"
      },
      "execution_count": null,
      "outputs": []
    },
    {
      "cell_type": "code",
      "source": [
        "friend_counts = Counter(num_friends)\n",
        "xs = range(101) # largest value is 100\n",
        "ys = [friend_counts[x] for x in xs] # height is just # of friends\n",
        "plt.bar(xs, ys)\n",
        "plt.axis([0, 101, 0, 4])\n",
        "plt.title(\"Histogram of Friend Counts\")\n",
        "plt.xlabel(\"# of friends\")\n",
        "plt.ylabel(\"# of people\")\n",
        "plt.show()"
      ],
      "metadata": {
        "colab": {
          "base_uri": "https://localhost:8080/",
          "height": 54
        },
        "id": "00C9YkaqQNpR",
        "outputId": "b4912a3e-fec9-4319-d61d-35a0ffeb6114"
      },
      "execution_count": null,
      "outputs": [
        {
          "output_type": "display_data",
          "data": {
            "text/plain": [
              "<Figure size 504x252 with 1 Axes>"
            ],
            "image/png": "[encoded data removed]"
          },
          "metadata": {
            "needs_background": "light"
          }
        }
      ]
    },
    {
      "cell_type": "code",
      "source": [
        "num_friends.mean()  , num_friends.std() , num_friends.var()  , \n"
      ],
      "metadata": {
        "colab": {
          "base_uri": "https://localhost:8080/"
        },
        "id": "BOpGoL_NQKOC",
        "outputId": "d4fb60d2-6dab-42cf-802a-4a0fc569679a"
      },
      "execution_count": null,
      "outputs": [
        {
          "output_type": "execute_result",
          "data": {
            "text/plain": [
              "(63.45, 22.683639478707995, 514.5475)"
            ]
          },
          "metadata": {},
          "execution_count": 98
        }
      ]
    },
    {
      "cell_type": "code",
      "source": [
        "iqr =  quantile(num_friends , 0.75)  - quantile(num_friends , 0.25)"
      ],
      "metadata": {
        "id": "lLJ4gQavKufW"
      },
      "execution_count": null,
      "outputs": []
    },
    {
      "cell_type": "code",
      "source": [
        "iqr"
      ],
      "metadata": {
        "colab": {
          "base_uri": "https://localhost:8080/"
        },
        "id": "d0JZS2G5Kucn",
        "outputId": "73611a7b-ecb7-4780-cad8-d5a54b0a3a4b"
      },
      "execution_count": null,
      "outputs": [
        {
          "output_type": "execute_result",
          "data": {
            "text/plain": [
              "31"
            ]
          },
          "metadata": {},
          "execution_count": 100
        }
      ]
    },
    {
      "cell_type": "code",
      "source": [
        "def de_mean (x) : \n",
        "  x_mean = np.mean(x)\n",
        "  return [x_i  - x_mean for  x_i in x ]"
      ],
      "metadata": {
        "id": "tAFi8WX1KuaG"
      },
      "execution_count": null,
      "outputs": []
    },
    {
      "cell_type": "code",
      "source": [
        "def covariance(x ,y)  : \n",
        "  n = len(x) \n",
        "  return np.dot(de_mean(x) ,de_mean(y) ) / (n-1) \n",
        "   \n"
      ],
      "metadata": {
        "id": "z5VYgjM9KuSF"
      },
      "execution_count": null,
      "outputs": []
    },
    {
      "cell_type": "code",
      "source": [
        "random.seed(80)\n",
        "daily_minute = np.random.randint(low = 2 , high = 10 , size = 40 )\n",
        "daily_minute"
      ],
      "metadata": {
        "colab": {
          "base_uri": "https://localhost:8080/"
        },
        "id": "C0vW1mamkusg",
        "outputId": "76b0a3c2-ab18-4a7e-e526-1f260826e0f9"
      },
      "execution_count": null,
      "outputs": [
        {
          "output_type": "execute_result",
          "data": {
            "text/plain": [
              "array([2, 6, 3, 8, 5, 5, 4, 6, 9, 4, 9, 6, 9, 9, 7, 6, 6, 4, 7, 3, 8, 7,\n",
              "       3, 7, 5, 7, 3, 2, 2, 8, 6, 3, 4, 9, 5, 8, 3, 8, 8, 8])"
            ]
          },
          "metadata": {},
          "execution_count": 103
        }
      ]
    },
    {
      "cell_type": "code",
      "source": [
        "cov = covariance(num_friends , daily_minute) \n",
        "cov "
      ],
      "metadata": {
        "colab": {
          "base_uri": "https://localhost:8080/"
        },
        "id": "fZ6YPyV2kuo5",
        "outputId": "8139fd6e-2800-4ed1-9218-74de4965b928"
      },
      "execution_count": null,
      "outputs": [
        {
          "output_type": "execute_result",
          "data": {
            "text/plain": [
              "2.451282051282053"
            ]
          },
          "metadata": {},
          "execution_count": 104
        }
      ]
    },
    {
      "cell_type": "code",
      "source": [
        "from numpy.random import randn\n",
        "random.seed(890)\n",
        "data1 = 20 * randn(1000) + 100\n",
        "data2 = data1 + (10 * randn(1000) + 50)"
      ],
      "metadata": {
        "id": "FZO83KPGx50G"
      },
      "execution_count": null,
      "outputs": []
    },
    {
      "cell_type": "code",
      "source": [
        "def correlation(x , y ) : \n",
        "  stdev_x = np.std(x)\n",
        "  stdev_y = np.std(y)\n",
        "\n",
        "  if stdev_x > 0  and  stdev_y >  0  : \n",
        "    return covariance(x, y ) / stdev_x / stdev_y \n",
        "  else : \n",
        "    return 0  \n",
        "\n",
        "correlation(num_friends  , daily_minute) \n"
      ],
      "metadata": {
        "colab": {
          "base_uri": "https://localhost:8080/"
        },
        "id": "w9KZWGELrpfA",
        "outputId": "fb26c68b-ffce-44fd-ae3f-26f9b571e40b"
      },
      "execution_count": null,
      "outputs": [
        {
          "output_type": "execute_result",
          "data": {
            "text/plain": [
              "0.048522113656692824"
            ]
          },
          "metadata": {},
          "execution_count": 106
        }
      ]
    },
    {
      "cell_type": "code",
      "source": [
        "correlation(data1 , data1)"
      ],
      "metadata": {
        "colab": {
          "base_uri": "https://localhost:8080/"
        },
        "id": "0ISKbtDqkuhp",
        "outputId": "0f9919c6-d6d1-4fef-a892-55ceaf399a23"
      },
      "execution_count": null,
      "outputs": [
        {
          "output_type": "execute_result",
          "data": {
            "text/plain": [
              "1.0010010010010013"
            ]
          },
          "metadata": {},
          "execution_count": 107
        }
      ]
    },
    {
      "cell_type": "code",
      "source": [
        "import numpy as np\n",
        "\n",
        "np.random.seed(100)\n",
        "\n",
        "#create array of 50 random integers between 0 and 10\n",
        "var1 = np.random.randint(0, 10, 50)\n",
        "\n",
        "#create a positively correlated array with some random noise\n",
        "var2 = var1 + np.random.normal(0, 10, 50)\n",
        "\n",
        "#calculate the correlation between the two arrays\n",
        "np.corrcoef(var1, var2)\n",
        "\n"
      ],
      "metadata": {
        "colab": {
          "base_uri": "https://localhost:8080/"
        },
        "id": "6uRSf2ZMkudm",
        "outputId": "a6b31f6a-e4c6-403d-ca70-285e539c336b"
      },
      "execution_count": null,
      "outputs": [
        {
          "output_type": "execute_result",
          "data": {
            "text/plain": [
              "array([[1.       , 0.3350184],\n",
              "       [0.3350184, 1.       ]])"
            ]
          },
          "metadata": {},
          "execution_count": 108
        }
      ]
    },
    {
      "cell_type": "code",
      "source": [
        "np.corrcoef(data1  , data1)[0,  1]"
      ],
      "metadata": {
        "colab": {
          "base_uri": "https://localhost:8080/"
        },
        "id": "kJFgORBL7qX6",
        "outputId": "55374315-84e6-4895-dae0-45c27adfa6ba"
      },
      "execution_count": null,
      "outputs": [
        {
          "output_type": "execute_result",
          "data": {
            "text/plain": [
              "1.0"
            ]
          },
          "metadata": {},
          "execution_count": 109
        }
      ]
    },
    {
      "cell_type": "code",
      "source": [
        "np.corrcoef(num_friends  , daily_minute) [0,1]"
      ],
      "metadata": {
        "colab": {
          "base_uri": "https://localhost:8080/"
        },
        "id": "rgsyj64DkuaD",
        "outputId": "bd793f7e-e161-4999-e519-5e160b2ac667"
      },
      "execution_count": null,
      "outputs": [
        {
          "output_type": "execute_result",
          "data": {
            "text/plain": [
              "0.04730906081527548"
            ]
          },
          "metadata": {},
          "execution_count": 110
        }
      ]
    },
    {
      "cell_type": "code",
      "source": [
        "x = [-2, -1, 0, 1, 2]\n",
        "y = [ 2, 1, 0, 1, 2]\n"
      ],
      "metadata": {
        "id": "9RdHQYxOHcio"
      },
      "execution_count": null,
      "outputs": []
    },
    {
      "cell_type": "code",
      "source": [
        "x = [-2, 1, 0, 1, 2]\n",
        "y = [99.98, 99.99, 100, 100.01, 100.02]"
      ],
      "metadata": {
        "id": "scUL9Vpj8UHu"
      },
      "execution_count": null,
      "outputs": []
    },
    {
      "cell_type": "code",
      "source": [
        "correlation(x, y )"
      ],
      "metadata": {
        "colab": {
          "base_uri": "https://localhost:8080/"
        },
        "id": "q5Q5jdZO8BnM",
        "outputId": "ba4f5533-1c9f-43eb-f694-fe26309779a0"
      },
      "execution_count": null,
      "outputs": [
        {
          "output_type": "execute_result",
          "data": {
            "text/plain": [
              "1.0425720702852255"
            ]
          },
          "metadata": {},
          "execution_count": 113
        }
      ]
    },
    {
      "cell_type": "code",
      "source": [
        "np.corrcoef(x,  y)[0 ,1]"
      ],
      "metadata": {
        "colab": {
          "base_uri": "https://localhost:8080/"
        },
        "id": "WVun48QdHcfX",
        "outputId": "17422583-9f04-4844-d823-72aa3fc40386"
      },
      "execution_count": null,
      "outputs": [
        {
          "output_type": "execute_result",
          "data": {
            "text/plain": [
              "0.8340576562281805"
            ]
          },
          "metadata": {},
          "execution_count": 114
        }
      ]
    },
    {
      "cell_type": "code",
      "source": [
        "def uniform_pdf(x): \n",
        "  return 1 if x >= 0 and x < 1 else 0 "
      ],
      "metadata": {
        "id": "KDv3kiLQHcbw"
      },
      "execution_count": null,
      "outputs": []
    },
    {
      "cell_type": "code",
      "source": [
        "import math "
      ],
      "metadata": {
        "id": "TCLkG1_DVJo3"
      },
      "execution_count": null,
      "outputs": []
    },
    {
      "cell_type": "code",
      "source": [
        "def normal_pdf(x, mu=0, sigma=1):\n",
        "  sqrt_two_pi = math.sqrt(2 * math.pi)\n",
        "  return (math.exp(-(x-mu) ** 2 / 2 / sigma ** 2) / (sqrt_two_pi * sigma))"
      ],
      "metadata": {
        "id": "ptq2usmiS52L"
      },
      "execution_count": null,
      "outputs": []
    },
    {
      "cell_type": "code",
      "source": [
        "xs = [x / 10.0 for x in range(-50, 50)]\n",
        "plt.plot(xs,[normal_pdf(x,sigma=1) for x in xs],'-',label='mu=0,sigma=1')\n",
        "plt.plot(xs,[normal_pdf(x,sigma=2) for x in xs],'--',label='mu=0,sigma=2')\n",
        "plt.plot(xs,[normal_pdf(x,sigma=0.5) for x in xs],':',label='mu=0,sigma=0.5')\n",
        "plt.plot(xs,[normal_pdf(x,mu=-1) for x in xs],'-.',label='mu=-1,sigma=1')\n",
        "plt.legend()\n",
        "plt.title(\"Various Normal pdfs\")\n",
        "plt.show()"
      ],
      "metadata": {
        "colab": {
          "base_uri": "https://localhost:8080/",
          "height": 261
        },
        "id": "-bRZPDw5S5xr",
        "outputId": "9fdae8c0-d4ec-4ec6-c730-0f6f17b541b9"
      },
      "execution_count": null,
      "outputs": [
        {
          "output_type": "display_data",
          "data": {
            "text/plain": [
              "<Figure size 504x252 with 1 Axes>"
            ],
            "image/png": "[encoded data removed]"
          },
          "metadata": {
            "needs_background": "light"
          }
        }
      ]
    },
    {
      "cell_type": "code",
      "source": [
        "def  normal_cdf(x , mu = 0 , sigma = 1)  :\n",
        "  return (1 + math.erf((x - mu)  / math.sqrt(2)   / sigma)) / 2 "
      ],
      "metadata": {
        "id": "c7RFKhoiS5tf"
      },
      "execution_count": null,
      "outputs": []
    },
    {
      "cell_type": "code",
      "source": [
        "xs = [x  / 10.0 for  x in range (-50 , 50)]  \n",
        "plt.plot(xs ,[ normal_cdf(x , mu = -1 , sigma  =1) for x in xs] , '-' , label = 'mu = 0 sigma = 1')\n",
        "plt.plot(xs ,[ normal_cdf(x , sigma  = 0.5) for x in xs] , '-.' , label = 'mu = 0 sigma = 0.5')\n",
        "plt.plot(xs ,[ normal_cdf(x , sigma  = 2) for x in xs] , ':' , label = 'mu = 0 sigma = 2')\n",
        "plt.plot(xs ,[ normal_cdf(x , sigma  =1) for x in xs] , '--' , label = 'mu = 0 sigma = 0.1') \n",
        "plt.legend(loc= 'best')\n",
        "plt.title('CDF plots')\n",
        "plt.show()"
      ],
      "metadata": {
        "colab": {
          "base_uri": "https://localhost:8080/",
          "height": 261
        },
        "id": "CNiz7G6oS5o_",
        "outputId": "30eb1aca-d97f-4366-fc98-e03da3713f41"
      },
      "execution_count": null,
      "outputs": [
        {
          "output_type": "display_data",
          "data": {
            "text/plain": [
              "<Figure size 504x252 with 1 Axes>"
            ],
            "image/png": "[encoded data removed]"
          },
          "metadata": {
            "needs_background": "light"
          }
        }
      ]
    },
    {
      "cell_type": "code",
      "source": [
        ""
      ],
      "metadata": {
        "id": "_ayqzCQzS5jz"
      },
      "execution_count": null,
      "outputs": []
    },
    {
      "cell_type": "code",
      "source": [
        ""
      ],
      "metadata": {
        "id": "MZhSE7RYS5ep"
      },
      "execution_count": null,
      "outputs": []
    },
    {
      "cell_type": "code",
      "source": [
        ""
      ],
      "metadata": {
        "id": "7aRr3YMIS5ZW"
      },
      "execution_count": null,
      "outputs": []
    },
    {
      "cell_type": "code",
      "source": [
        ""
      ],
      "metadata": {
        "id": "Lt1lJPL_S5Ug"
      },
      "execution_count": null,
      "outputs": []
    }
  ]
}